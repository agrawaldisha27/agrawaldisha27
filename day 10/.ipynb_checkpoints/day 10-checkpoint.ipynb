{
 "cells": [
  {
   "cell_type": "code",
   "execution_count": 36,
   "id": "ec1df1ef-890f-418c-91e9-88947c38c0ba",
   "metadata": {},
   "outputs": [],
   "source": [
    "import pandas as pd"
   ]
  },
  {
   "cell_type": "code",
   "execution_count": 37,
   "id": "9fec24ee-a498-4974-b75b-2546f4a08c4f",
   "metadata": {},
   "outputs": [],
   "source": [
    "movies = pd.read_csv(r'my movies.csv')"
   ]
  },
  {
   "cell_type": "code",
   "execution_count": 38,
   "id": "eb31fb7b-c44e-4e08-ae21-584960a101fb",
   "metadata": {},
   "outputs": [
    {
     "data": {
      "text/html": [
       "<div>\n",
       "<style scoped>\n",
       "    .dataframe tbody tr th:only-of-type {\n",
       "        vertical-align: middle;\n",
       "    }\n",
       "\n",
       "    .dataframe tbody tr th {\n",
       "        vertical-align: top;\n",
       "    }\n",
       "\n",
       "    .dataframe thead th {\n",
       "        text-align: right;\n",
       "    }\n",
       "</style>\n",
       "<table border=\"1\" class=\"dataframe\">\n",
       "  <thead>\n",
       "    <tr style=\"text-align: right;\">\n",
       "      <th></th>\n",
       "      <th>I.D.</th>\n",
       "      <th>NAME</th>\n",
       "      <th>INDUSTRY</th>\n",
       "      <th>GENRE</th>\n",
       "      <th>LANGUAGE</th>\n",
       "      <th>DURATION</th>\n",
       "      <th>RATING</th>\n",
       "    </tr>\n",
       "  </thead>\n",
       "  <tbody>\n",
       "    <tr>\n",
       "      <th>0</th>\n",
       "      <td>1</td>\n",
       "      <td>bahubhali</td>\n",
       "      <td>tollywood</td>\n",
       "      <td>action</td>\n",
       "      <td>telgue</td>\n",
       "      <td>170</td>\n",
       "      <td>9.5</td>\n",
       "    </tr>\n",
       "    <tr>\n",
       "      <th>1</th>\n",
       "      <td>2</td>\n",
       "      <td>brahamsta</td>\n",
       "      <td>hollywood</td>\n",
       "      <td>mysterioushindi</td>\n",
       "      <td>NaN</td>\n",
       "      <td>180</td>\n",
       "      <td>5.0</td>\n",
       "    </tr>\n",
       "    <tr>\n",
       "      <th>2</th>\n",
       "      <td>3</td>\n",
       "      <td>uri the sergical strike</td>\n",
       "      <td>hollywood</td>\n",
       "      <td>action</td>\n",
       "      <td>hindi</td>\n",
       "      <td>120</td>\n",
       "      <td>10.0</td>\n",
       "    </tr>\n",
       "    <tr>\n",
       "      <th>3</th>\n",
       "      <td>4</td>\n",
       "      <td>DDLJ</td>\n",
       "      <td>hollywood</td>\n",
       "      <td>romance</td>\n",
       "      <td>hindi</td>\n",
       "      <td>150</td>\n",
       "      <td>10.0</td>\n",
       "    </tr>\n",
       "    <tr>\n",
       "      <th>4</th>\n",
       "      <td>5</td>\n",
       "      <td>Avengers the and game</td>\n",
       "      <td>bollywood</td>\n",
       "      <td>action</td>\n",
       "      <td>english</td>\n",
       "      <td>180</td>\n",
       "      <td>9.0</td>\n",
       "    </tr>\n",
       "    <tr>\n",
       "      <th>5</th>\n",
       "      <td>6</td>\n",
       "      <td>tanent</td>\n",
       "      <td>hollywood</td>\n",
       "      <td>sci-fi</td>\n",
       "      <td>english</td>\n",
       "      <td>150</td>\n",
       "      <td>8.5</td>\n",
       "    </tr>\n",
       "    <tr>\n",
       "      <th>6</th>\n",
       "      <td>7</td>\n",
       "      <td>major</td>\n",
       "      <td>bollywood</td>\n",
       "      <td>action</td>\n",
       "      <td>hindi</td>\n",
       "      <td>140</td>\n",
       "      <td>8.0</td>\n",
       "    </tr>\n",
       "    <tr>\n",
       "      <th>7</th>\n",
       "      <td>8</td>\n",
       "      <td>intersteller</td>\n",
       "      <td>hollywood</td>\n",
       "      <td>sci-fi</td>\n",
       "      <td>english</td>\n",
       "      <td>190</td>\n",
       "      <td>7.0</td>\n",
       "    </tr>\n",
       "    <tr>\n",
       "      <th>8</th>\n",
       "      <td>9</td>\n",
       "      <td>gravity</td>\n",
       "      <td>hollywood</td>\n",
       "      <td>sci-fi</td>\n",
       "      <td>english</td>\n",
       "      <td>130</td>\n",
       "      <td>8.0</td>\n",
       "    </tr>\n",
       "    <tr>\n",
       "      <th>9</th>\n",
       "      <td>10</td>\n",
       "      <td>titanic</td>\n",
       "      <td>hollywood</td>\n",
       "      <td>drama</td>\n",
       "      <td>english</td>\n",
       "      <td>180</td>\n",
       "      <td>9.0</td>\n",
       "    </tr>\n",
       "    <tr>\n",
       "      <th>10</th>\n",
       "      <td>11</td>\n",
       "      <td>yeh jawani hai diwani</td>\n",
       "      <td>bollywood</td>\n",
       "      <td>romance</td>\n",
       "      <td>hindi</td>\n",
       "      <td>150</td>\n",
       "      <td>5.0</td>\n",
       "    </tr>\n",
       "    <tr>\n",
       "      <th>11</th>\n",
       "      <td>12</td>\n",
       "      <td>housefull</td>\n",
       "      <td>bollywood</td>\n",
       "      <td>comedy</td>\n",
       "      <td>english</td>\n",
       "      <td>150</td>\n",
       "      <td>6.0</td>\n",
       "    </tr>\n",
       "    <tr>\n",
       "      <th>12</th>\n",
       "      <td>13</td>\n",
       "      <td>the dictator</td>\n",
       "      <td>hollywood</td>\n",
       "      <td>comedy</td>\n",
       "      <td>hindi</td>\n",
       "      <td>120</td>\n",
       "      <td>7.0</td>\n",
       "    </tr>\n",
       "    <tr>\n",
       "      <th>13</th>\n",
       "      <td>14</td>\n",
       "      <td>hera pheri</td>\n",
       "      <td>bollywood</td>\n",
       "      <td>comedy</td>\n",
       "      <td>hindi</td>\n",
       "      <td>140</td>\n",
       "      <td>9.0</td>\n",
       "    </tr>\n",
       "    <tr>\n",
       "      <th>14</th>\n",
       "      <td>15</td>\n",
       "      <td>sholay</td>\n",
       "      <td>bollywood</td>\n",
       "      <td>drama</td>\n",
       "      <td>hindi</td>\n",
       "      <td>150</td>\n",
       "      <td>8.5</td>\n",
       "    </tr>\n",
       "  </tbody>\n",
       "</table>\n",
       "</div>"
      ],
      "text/plain": [
       "    I.D.                     NAME   INDUSTRY            GENRE LANGUAGE  \\\n",
       "0      1                bahubhali  tollywood           action   telgue   \n",
       "1      2                brahamsta  hollywood  mysterioushindi      NaN   \n",
       "2      3  uri the sergical strike  hollywood           action    hindi   \n",
       "3      4                     DDLJ  hollywood          romance    hindi   \n",
       "4      5    Avengers the and game  bollywood           action  english   \n",
       "5      6                   tanent  hollywood           sci-fi  english   \n",
       "6      7                    major  bollywood           action    hindi   \n",
       "7      8             intersteller  hollywood           sci-fi  english   \n",
       "8      9                  gravity  hollywood           sci-fi  english   \n",
       "9     10                  titanic  hollywood            drama  english   \n",
       "10    11    yeh jawani hai diwani  bollywood          romance    hindi   \n",
       "11    12                housefull  bollywood           comedy  english   \n",
       "12    13            the dictator   hollywood           comedy    hindi   \n",
       "13    14               hera pheri  bollywood           comedy    hindi   \n",
       "14    15                   sholay  bollywood            drama    hindi   \n",
       "\n",
       "    DURATION  RATING  \n",
       "0        170     9.5  \n",
       "1        180     5.0  \n",
       "2        120    10.0  \n",
       "3        150    10.0  \n",
       "4        180     9.0  \n",
       "5        150     8.5  \n",
       "6        140     8.0  \n",
       "7        190     7.0  \n",
       "8        130     8.0  \n",
       "9        180     9.0  \n",
       "10       150     5.0  \n",
       "11       150     6.0  \n",
       "12       120     7.0  \n",
       "13       140     9.0  \n",
       "14       150     8.5  "
      ]
     },
     "execution_count": 38,
     "metadata": {},
     "output_type": "execute_result"
    }
   ],
   "source": [
    "movies"
   ]
  },
  {
   "cell_type": "code",
   "execution_count": null,
   "id": "c04b0a4c-00fa-4e8c-a955-a631405c9ae6",
   "metadata": {},
   "outputs": [],
   "source": []
  },
  {
   "cell_type": "markdown",
   "id": "2882ebc7-82e1-4a28-9e00-7dcb888ee6e4",
   "metadata": {},
   "source": [
    "# longest movie"
   ]
  },
  {
   "cell_type": "code",
   "execution_count": 39,
   "id": "2c4aadf4-d6bd-456a-aab9-37c53c7064bb",
   "metadata": {},
   "outputs": [
    {
     "data": {
      "text/plain": [
       "7"
      ]
     },
     "execution_count": 39,
     "metadata": {},
     "output_type": "execute_result"
    }
   ],
   "source": [
    "movies['DURATION'].argmax()"
   ]
  },
  {
   "cell_type": "code",
   "execution_count": 40,
   "id": "1211afd1-6c8e-4523-9edf-8fbf3bfb5466",
   "metadata": {},
   "outputs": [
    {
     "data": {
      "text/plain": [
       "0                   bahubhali\n",
       "1                   brahamsta\n",
       "2     uri the sergical strike\n",
       "3                        DDLJ\n",
       "4       Avengers the and game\n",
       "5                      tanent\n",
       "6                       major\n",
       "7                intersteller\n",
       "8                     gravity\n",
       "9                     titanic\n",
       "10      yeh jawani hai diwani\n",
       "11                  housefull\n",
       "12              the dictator \n",
       "13                 hera pheri\n",
       "14                     sholay\n",
       "Name: NAME, dtype: object"
      ]
     },
     "execution_count": 40,
     "metadata": {},
     "output_type": "execute_result"
    }
   ],
   "source": [
    "movies['NAME']"
   ]
  },
  {
   "cell_type": "code",
   "execution_count": 41,
   "id": "98a3c107-3f9c-4309-ad36-cf1461fb2578",
   "metadata": {},
   "outputs": [
    {
     "data": {
      "text/plain": [
       "'intersteller'"
      ]
     },
     "execution_count": 41,
     "metadata": {},
     "output_type": "execute_result"
    }
   ],
   "source": [
    "movies['NAME'][movies['DURATION'].argmax()]"
   ]
  },
  {
   "cell_type": "markdown",
   "id": "22b1a12c-2a89-4fa5-bf1c-cb4aaba0f639",
   "metadata": {},
   "source": [
    "# no. of movies get 10 star rating"
   ]
  },
  {
   "cell_type": "code",
   "execution_count": 42,
   "id": "85b2213b-c398-4318-ab35-2bd95b7959dc",
   "metadata": {},
   "outputs": [
    {
     "data": {
      "text/plain": [
       "0     False\n",
       "1     False\n",
       "2      True\n",
       "3      True\n",
       "4     False\n",
       "5     False\n",
       "6     False\n",
       "7     False\n",
       "8     False\n",
       "9     False\n",
       "10    False\n",
       "11    False\n",
       "12    False\n",
       "13    False\n",
       "14    False\n",
       "Name: RATING, dtype: bool"
      ]
     },
     "execution_count": 42,
     "metadata": {},
     "output_type": "execute_result"
    }
   ],
   "source": [
    "movies['RATING']==10"
   ]
  },
  {
   "cell_type": "code",
   "execution_count": 43,
   "id": "f38e6392-3732-4071-82dd-1f43f2967d34",
   "metadata": {},
   "outputs": [
    {
     "data": {
      "text/plain": [
       "2    uri the sergical strike\n",
       "3                       DDLJ\n",
       "Name: NAME, dtype: object"
      ]
     },
     "execution_count": 43,
     "metadata": {},
     "output_type": "execute_result"
    }
   ],
   "source": [
    "movies['NAME'][movies['RATING']==10]"
   ]
  },
  {
   "cell_type": "code",
   "execution_count": 44,
   "id": "d33d826f-7287-45eb-8745-cfa4a4a9d553",
   "metadata": {},
   "outputs": [
    {
     "data": {
      "text/plain": [
       "array(['uri the sergical strike', 'DDLJ'], dtype=object)"
      ]
     },
     "execution_count": 44,
     "metadata": {},
     "output_type": "execute_result"
    }
   ],
   "source": [
    "movies['NAME'][movies['RATING']==10].values[0:2]"
   ]
  },
  {
   "cell_type": "code",
   "execution_count": 45,
   "id": "1cf0ec27-aec9-4983-a3e8-de3a6ee70981",
   "metadata": {},
   "outputs": [],
   "source": [
    "## sum(movies['RATING']==10)"
   ]
  },
  {
   "cell_type": "markdown",
   "id": "21f4ae25-852c-483a-b0a7-5dbc9c4fbd51",
   "metadata": {},
   "source": [
    "# no. of industries"
   ]
  },
  {
   "cell_type": "code",
   "execution_count": 46,
   "id": "0d8088fb-4974-44fa-9af9-b020cca6d3ec",
   "metadata": {},
   "outputs": [
    {
     "data": {
      "text/plain": [
       "hollywood    8\n",
       "bollywood    6\n",
       "tollywood    1\n",
       "Name: INDUSTRY, dtype: int64"
      ]
     },
     "execution_count": 46,
     "metadata": {},
     "output_type": "execute_result"
    }
   ],
   "source": [
    "movies['INDUSTRY'].value_counts()"
   ]
  },
  {
   "cell_type": "code",
   "execution_count": 47,
   "id": "178f910b-e940-4268-b235-b1fdc86bdbeb",
   "metadata": {},
   "outputs": [
    {
     "data": {
      "text/plain": [
       "3"
      ]
     },
     "execution_count": 47,
     "metadata": {},
     "output_type": "execute_result"
    }
   ],
   "source": [
    "movies['INDUSTRY'].value_counts().count()"
   ]
  },
  {
   "cell_type": "code",
   "execution_count": 48,
   "id": "20f3773f-f352-44a5-b628-e59a86ded282",
   "metadata": {},
   "outputs": [
    {
     "data": {
      "text/plain": [
       "3"
      ]
     },
     "execution_count": 48,
     "metadata": {},
     "output_type": "execute_result"
    }
   ],
   "source": [
    "len(movies['INDUSTRY'].value_counts())"
   ]
  },
  {
   "cell_type": "markdown",
   "id": "bd36e586-81b9-4502-ba14-ab9615a6e3e0",
   "metadata": {},
   "source": [
    "# least liked comedy movie "
   ]
  },
  {
   "cell_type": "code",
   "execution_count": 49,
   "id": "c1afb9c0-128a-44e3-b5ab-8c6a9f9cad80",
   "metadata": {},
   "outputs": [
    {
     "data": {
      "text/plain": [
       "11"
      ]
     },
     "execution_count": 49,
     "metadata": {},
     "output_type": "execute_result"
    }
   ],
   "source": [
    "movies['RATING'][movies['GENRE']=='comedy'].idxmin()"
   ]
  },
  {
   "cell_type": "code",
   "execution_count": 50,
   "id": "3fe0b8b7-cc56-419a-967d-b480ae4bdfda",
   "metadata": {},
   "outputs": [
    {
     "data": {
      "text/plain": [
       "'housefull'"
      ]
     },
     "execution_count": 50,
     "metadata": {},
     "output_type": "execute_result"
    }
   ],
   "source": [
    "movies['NAME'][movies['RATING'][movies['GENRE']=='comedy'].idxmin()]"
   ]
  },
  {
   "cell_type": "code",
   "execution_count": 51,
   "id": "d0189062-ea68-46e2-be94-de182f7ba587",
   "metadata": {},
   "outputs": [
    {
     "data": {
      "text/plain": [
       "'major'"
      ]
     },
     "execution_count": 51,
     "metadata": {},
     "output_type": "execute_result"
    }
   ],
   "source": [
    "movies['NAME'][movies['RATING'][movies['GENRE']=='comedy'].min()]"
   ]
  },
  {
   "cell_type": "code",
   "execution_count": 52,
   "id": "4b84bf17-b6c8-476b-9d32-8b9917b168c3",
   "metadata": {},
   "outputs": [
    {
     "data": {
      "text/plain": [
       "[6.0]"
      ]
     },
     "execution_count": 52,
     "metadata": {},
     "output_type": "execute_result"
    }
   ],
   "source": [
    "[movies['RATING'][movies['GENRE']=='comedy'].min()]"
   ]
  },
  {
   "cell_type": "code",
   "execution_count": 53,
   "id": "109ae863-aebb-42ee-b4a4-2b21d8f1fea9",
   "metadata": {},
   "outputs": [
    {
     "data": {
      "text/plain": [
       "Index(['I.D.', 'NAME', 'INDUSTRY', 'GENRE', 'LANGUAGE', 'DURATION', 'RATING'], dtype='object')"
      ]
     },
     "execution_count": 53,
     "metadata": {},
     "output_type": "execute_result"
    }
   ],
   "source": [
    "movies.columns"
   ]
  },
  {
   "cell_type": "markdown",
   "id": "3bf6e8f8-a5bd-4eb5-a780-af153c4885bf",
   "metadata": {},
   "source": [
    "# longest english movie"
   ]
  },
  {
   "cell_type": "code",
   "execution_count": 54,
   "id": "6e7da95d-b318-41e7-8509-cd31d4fe2e23",
   "metadata": {},
   "outputs": [
    {
     "data": {
      "text/plain": [
       "'intersteller'"
      ]
     },
     "execution_count": 54,
     "metadata": {},
     "output_type": "execute_result"
    }
   ],
   "source": [
    "movies['NAME'][movies[movies['LANGUAGE']=='english']['DURATION'].idxmax()]"
   ]
  },
  {
   "cell_type": "markdown",
   "id": "aaecb791-b8ce-44a8-ad33-a42fd3e09a0d",
   "metadata": {},
   "source": [
    "# gener of intersteller"
   ]
  },
  {
   "cell_type": "code",
   "execution_count": 55,
   "id": "eb6993b2-182a-42dc-904c-2641f0d67df7",
   "metadata": {},
   "outputs": [
    {
     "data": {
      "text/plain": [
       "7    sci-fi\n",
       "Name: GENRE, dtype: object"
      ]
     },
     "execution_count": 55,
     "metadata": {},
     "output_type": "execute_result"
    }
   ],
   "source": [
    "movies['GENRE'][movies['NAME']=='intersteller']"
   ]
  },
  {
   "cell_type": "markdown",
   "id": "26b14b0e-d711-4106-bdbb-bb2feb2be1b1",
   "metadata": {},
   "source": [
    ">this outcome is series type if we want a string "
   ]
  },
  {
   "cell_type": "code",
   "execution_count": 56,
   "id": "190973ec-76aa-49f2-a15f-9f1015147200",
   "metadata": {},
   "outputs": [
    {
     "data": {
      "text/plain": [
       "'sci-fi'"
      ]
     },
     "execution_count": 56,
     "metadata": {},
     "output_type": "execute_result"
    }
   ],
   "source": [
    "movies['GENRE'][movies['NAME']=='intersteller'].values[0]"
   ]
  },
  {
   "cell_type": "markdown",
   "id": "25cc8197-1226-4a66-b06d-20a95dc5e54e",
   "metadata": {},
   "source": [
    "# ["
   ]
  },
  {
   "cell_type": "code",
   "execution_count": 57,
   "id": "75a92f9e-daf5-4f1a-9dec-c606464c4e61",
   "metadata": {},
   "outputs": [
    {
     "data": {
      "text/plain": [
       "0                   bahubhali\n",
       "1                   brahamsta\n",
       "2     uri the sergical strike\n",
       "3                        ddlj\n",
       "4       avengers the and game\n",
       "5                      tanent\n",
       "6                       major\n",
       "7                intersteller\n",
       "8                     gravity\n",
       "9                     titanic\n",
       "10      yeh jawani hai diwani\n",
       "11                  housefull\n",
       "12              the dictator \n",
       "13                 hera pheri\n",
       "14                     sholay\n",
       "Name: NAME, dtype: object"
      ]
     },
     "execution_count": 57,
     "metadata": {},
     "output_type": "execute_result"
    }
   ],
   "source": [
    "movies['NAME'].str.lower()"
   ]
  },
  {
   "cell_type": "code",
   "execution_count": 58,
   "id": "8e25bdc6-0974-4651-b44a-b37196f9d00c",
   "metadata": {},
   "outputs": [
    {
     "data": {
      "text/plain": [
       "'sci-fi'"
      ]
     },
     "execution_count": 58,
     "metadata": {},
     "output_type": "execute_result"
    }
   ],
   "source": [
    "movies['GENRE'][movies['NAME'].str.lower()=='iNterSteller'.lower()].values[0]"
   ]
  },
  {
   "cell_type": "code",
   "execution_count": 59,
   "id": "ed6fdbe1-1f3c-4562-a02f-8f1834da9300",
   "metadata": {},
   "outputs": [],
   "source": [
    "names=movies['NAME']"
   ]
  },
  {
   "cell_type": "code",
   "execution_count": 60,
   "id": "fb9cc512-5546-4013-be03-486addf8fda6",
   "metadata": {},
   "outputs": [
    {
     "data": {
      "text/plain": [
       "0                   bahubhali\n",
       "1                   brahamsta\n",
       "2     uri the sergical strike\n",
       "3                        DDLJ\n",
       "4       Avengers the and game\n",
       "5                      tanent\n",
       "6                       major\n",
       "7                intersteller\n",
       "8                     gravity\n",
       "9                     titanic\n",
       "10      yeh jawani hai diwani\n",
       "11                  housefull\n",
       "12              the dictator \n",
       "13                 hera pheri\n",
       "14                     sholay\n",
       "Name: NAME, dtype: object"
      ]
     },
     "execution_count": 60,
     "metadata": {},
     "output_type": "execute_result"
    }
   ],
   "source": [
    "names"
   ]
  },
  {
   "cell_type": "code",
   "execution_count": 61,
   "id": "80de044f-b037-4c9c-a164-df74b39aa4f3",
   "metadata": {},
   "outputs": [
    {
     "data": {
      "text/plain": [
       "['bahubhali',\n",
       " 'brahamsta',\n",
       " 'uri the sergical strike',\n",
       " 'DDLJ',\n",
       " 'Avengers the and game',\n",
       " 'tanent',\n",
       " 'major',\n",
       " 'intersteller',\n",
       " 'gravity',\n",
       " 'titanic',\n",
       " 'yeh jawani hai diwani',\n",
       " 'housefull',\n",
       " 'the dictator ',\n",
       " 'hera pheri',\n",
       " 'sholay']"
      ]
     },
     "execution_count": 61,
     "metadata": {},
     "output_type": "execute_result"
    }
   ],
   "source": [
    "names.to_list()"
   ]
  },
  {
   "cell_type": "code",
   "execution_count": 62,
   "id": "8c19cdb8-3859-4707-b4cb-360d1c446904",
   "metadata": {},
   "outputs": [
    {
     "data": {
      "text/plain": [
       "0                   Bahubhali\n",
       "1                   Brahamsta\n",
       "2     Uri the sergical strike\n",
       "3                        Ddlj\n",
       "4       Avengers the and game\n",
       "5                      Tanent\n",
       "6                       Major\n",
       "7                Intersteller\n",
       "8                     Gravity\n",
       "9                     Titanic\n",
       "10      Yeh jawani hai diwani\n",
       "11                  Housefull\n",
       "12              The dictator \n",
       "13                 Hera pheri\n",
       "14                     Sholay\n",
       "Name: NAME, dtype: object"
      ]
     },
     "execution_count": 62,
     "metadata": {},
     "output_type": "execute_result"
    }
   ],
   "source": [
    "names.str.capitalize()"
   ]
  },
  {
   "cell_type": "code",
   "execution_count": 63,
   "id": "823ca43c-e6ae-426c-b512-28a14a12cad5",
   "metadata": {},
   "outputs": [
    {
     "data": {
      "text/plain": [
       "0                   bahubhali\n",
       "1                   brahamsta\n",
       "2     uri the sergical strike\n",
       "3                        ddlj\n",
       "4       avengers the and game\n",
       "5                      tanent\n",
       "6                       major\n",
       "7                intersteller\n",
       "8                     gravity\n",
       "9                     titanic\n",
       "10      yeh jawani hai diwani\n",
       "11                  housefull\n",
       "12              the dictator \n",
       "13                 hera pheri\n",
       "14                     sholay\n",
       "Name: NAME, dtype: object"
      ]
     },
     "execution_count": 63,
     "metadata": {},
     "output_type": "execute_result"
    }
   ],
   "source": [
    "names.str.casefold()"
   ]
  },
  {
   "cell_type": "code",
   "execution_count": 64,
   "id": "cb845fa6-8c23-4d0a-8774-70f97961442d",
   "metadata": {},
   "outputs": [
    {
     "data": {
      "text/plain": [
       "0    -1\n",
       "1    -1\n",
       "2     6\n",
       "3    -1\n",
       "4     2\n",
       "5     3\n",
       "6    -1\n",
       "7     3\n",
       "8    -1\n",
       "9    -1\n",
       "10    1\n",
       "11    4\n",
       "12    2\n",
       "13    1\n",
       "14   -1\n",
       "Name: NAME, dtype: int64"
      ]
     },
     "execution_count": 64,
     "metadata": {},
     "output_type": "execute_result"
    }
   ],
   "source": [
    "names.str.find('e')"
   ]
  },
  {
   "cell_type": "code",
   "execution_count": 65,
   "id": "5a159ac6-5b5b-46f1-9c6c-aa0987a0bc80",
   "metadata": {},
   "outputs": [
    {
     "data": {
      "text/plain": [
       "0     0\n",
       "1     0\n",
       "2     1\n",
       "3     0\n",
       "4     2\n",
       "5     0\n",
       "6     0\n",
       "7     0\n",
       "8     1\n",
       "9     0\n",
       "10    0\n",
       "11    0\n",
       "12    0\n",
       "13    0\n",
       "14    0\n",
       "Name: NAME, dtype: int64"
      ]
     },
     "execution_count": 65,
     "metadata": {},
     "output_type": "execute_result"
    }
   ],
   "source": [
    "names.str.count('g')"
   ]
  },
  {
   "cell_type": "code",
   "execution_count": 66,
   "id": "ba45a5a6-9032-472e-ab77-bd91696a6b06",
   "metadata": {},
   "outputs": [
    {
     "data": {
      "text/plain": [
       "0     h\n",
       "1     a\n",
       "2     i\n",
       "3     L\n",
       "4     e\n",
       "5     n\n",
       "6     j\n",
       "7     t\n",
       "8     a\n",
       "9     t\n",
       "10    h\n",
       "11    u\n",
       "12    e\n",
       "13    r\n",
       "14    o\n",
       "Name: NAME, dtype: object"
      ]
     },
     "execution_count": 66,
     "metadata": {},
     "output_type": "execute_result"
    }
   ],
   "source": [
    "names.str.get(2)"
   ]
  },
  {
   "cell_type": "code",
   "execution_count": 67,
   "id": "3798ece3-7cab-418f-996f-0069fb4a303e",
   "metadata": {},
   "outputs": [
    {
     "data": {
      "text/html": [
       "<div>\n",
       "<style scoped>\n",
       "    .dataframe tbody tr th:only-of-type {\n",
       "        vertical-align: middle;\n",
       "    }\n",
       "\n",
       "    .dataframe tbody tr th {\n",
       "        vertical-align: top;\n",
       "    }\n",
       "\n",
       "    .dataframe thead th {\n",
       "        text-align: right;\n",
       "    }\n",
       "</style>\n",
       "<table border=\"1\" class=\"dataframe\">\n",
       "  <thead>\n",
       "    <tr style=\"text-align: right;\">\n",
       "      <th></th>\n",
       "      <th>Avengers the and game</th>\n",
       "      <th>DDLJ</th>\n",
       "      <th>bahubhali</th>\n",
       "      <th>brahamsta</th>\n",
       "      <th>gravity</th>\n",
       "      <th>hera pheri</th>\n",
       "      <th>housefull</th>\n",
       "      <th>intersteller</th>\n",
       "      <th>major</th>\n",
       "      <th>sholay</th>\n",
       "      <th>tanent</th>\n",
       "      <th>the dictator</th>\n",
       "      <th>titanic</th>\n",
       "      <th>uri the sergical strike</th>\n",
       "      <th>yeh jawani hai diwani</th>\n",
       "    </tr>\n",
       "  </thead>\n",
       "  <tbody>\n",
       "    <tr>\n",
       "      <th>0</th>\n",
       "      <td>0</td>\n",
       "      <td>0</td>\n",
       "      <td>1</td>\n",
       "      <td>0</td>\n",
       "      <td>0</td>\n",
       "      <td>0</td>\n",
       "      <td>0</td>\n",
       "      <td>0</td>\n",
       "      <td>0</td>\n",
       "      <td>0</td>\n",
       "      <td>0</td>\n",
       "      <td>0</td>\n",
       "      <td>0</td>\n",
       "      <td>0</td>\n",
       "      <td>0</td>\n",
       "    </tr>\n",
       "    <tr>\n",
       "      <th>1</th>\n",
       "      <td>0</td>\n",
       "      <td>0</td>\n",
       "      <td>0</td>\n",
       "      <td>1</td>\n",
       "      <td>0</td>\n",
       "      <td>0</td>\n",
       "      <td>0</td>\n",
       "      <td>0</td>\n",
       "      <td>0</td>\n",
       "      <td>0</td>\n",
       "      <td>0</td>\n",
       "      <td>0</td>\n",
       "      <td>0</td>\n",
       "      <td>0</td>\n",
       "      <td>0</td>\n",
       "    </tr>\n",
       "    <tr>\n",
       "      <th>2</th>\n",
       "      <td>0</td>\n",
       "      <td>0</td>\n",
       "      <td>0</td>\n",
       "      <td>0</td>\n",
       "      <td>0</td>\n",
       "      <td>0</td>\n",
       "      <td>0</td>\n",
       "      <td>0</td>\n",
       "      <td>0</td>\n",
       "      <td>0</td>\n",
       "      <td>0</td>\n",
       "      <td>0</td>\n",
       "      <td>0</td>\n",
       "      <td>1</td>\n",
       "      <td>0</td>\n",
       "    </tr>\n",
       "    <tr>\n",
       "      <th>3</th>\n",
       "      <td>0</td>\n",
       "      <td>1</td>\n",
       "      <td>0</td>\n",
       "      <td>0</td>\n",
       "      <td>0</td>\n",
       "      <td>0</td>\n",
       "      <td>0</td>\n",
       "      <td>0</td>\n",
       "      <td>0</td>\n",
       "      <td>0</td>\n",
       "      <td>0</td>\n",
       "      <td>0</td>\n",
       "      <td>0</td>\n",
       "      <td>0</td>\n",
       "      <td>0</td>\n",
       "    </tr>\n",
       "    <tr>\n",
       "      <th>4</th>\n",
       "      <td>1</td>\n",
       "      <td>0</td>\n",
       "      <td>0</td>\n",
       "      <td>0</td>\n",
       "      <td>0</td>\n",
       "      <td>0</td>\n",
       "      <td>0</td>\n",
       "      <td>0</td>\n",
       "      <td>0</td>\n",
       "      <td>0</td>\n",
       "      <td>0</td>\n",
       "      <td>0</td>\n",
       "      <td>0</td>\n",
       "      <td>0</td>\n",
       "      <td>0</td>\n",
       "    </tr>\n",
       "    <tr>\n",
       "      <th>5</th>\n",
       "      <td>0</td>\n",
       "      <td>0</td>\n",
       "      <td>0</td>\n",
       "      <td>0</td>\n",
       "      <td>0</td>\n",
       "      <td>0</td>\n",
       "      <td>0</td>\n",
       "      <td>0</td>\n",
       "      <td>0</td>\n",
       "      <td>0</td>\n",
       "      <td>1</td>\n",
       "      <td>0</td>\n",
       "      <td>0</td>\n",
       "      <td>0</td>\n",
       "      <td>0</td>\n",
       "    </tr>\n",
       "    <tr>\n",
       "      <th>6</th>\n",
       "      <td>0</td>\n",
       "      <td>0</td>\n",
       "      <td>0</td>\n",
       "      <td>0</td>\n",
       "      <td>0</td>\n",
       "      <td>0</td>\n",
       "      <td>0</td>\n",
       "      <td>0</td>\n",
       "      <td>1</td>\n",
       "      <td>0</td>\n",
       "      <td>0</td>\n",
       "      <td>0</td>\n",
       "      <td>0</td>\n",
       "      <td>0</td>\n",
       "      <td>0</td>\n",
       "    </tr>\n",
       "    <tr>\n",
       "      <th>7</th>\n",
       "      <td>0</td>\n",
       "      <td>0</td>\n",
       "      <td>0</td>\n",
       "      <td>0</td>\n",
       "      <td>0</td>\n",
       "      <td>0</td>\n",
       "      <td>0</td>\n",
       "      <td>1</td>\n",
       "      <td>0</td>\n",
       "      <td>0</td>\n",
       "      <td>0</td>\n",
       "      <td>0</td>\n",
       "      <td>0</td>\n",
       "      <td>0</td>\n",
       "      <td>0</td>\n",
       "    </tr>\n",
       "    <tr>\n",
       "      <th>8</th>\n",
       "      <td>0</td>\n",
       "      <td>0</td>\n",
       "      <td>0</td>\n",
       "      <td>0</td>\n",
       "      <td>1</td>\n",
       "      <td>0</td>\n",
       "      <td>0</td>\n",
       "      <td>0</td>\n",
       "      <td>0</td>\n",
       "      <td>0</td>\n",
       "      <td>0</td>\n",
       "      <td>0</td>\n",
       "      <td>0</td>\n",
       "      <td>0</td>\n",
       "      <td>0</td>\n",
       "    </tr>\n",
       "    <tr>\n",
       "      <th>9</th>\n",
       "      <td>0</td>\n",
       "      <td>0</td>\n",
       "      <td>0</td>\n",
       "      <td>0</td>\n",
       "      <td>0</td>\n",
       "      <td>0</td>\n",
       "      <td>0</td>\n",
       "      <td>0</td>\n",
       "      <td>0</td>\n",
       "      <td>0</td>\n",
       "      <td>0</td>\n",
       "      <td>0</td>\n",
       "      <td>1</td>\n",
       "      <td>0</td>\n",
       "      <td>0</td>\n",
       "    </tr>\n",
       "    <tr>\n",
       "      <th>10</th>\n",
       "      <td>0</td>\n",
       "      <td>0</td>\n",
       "      <td>0</td>\n",
       "      <td>0</td>\n",
       "      <td>0</td>\n",
       "      <td>0</td>\n",
       "      <td>0</td>\n",
       "      <td>0</td>\n",
       "      <td>0</td>\n",
       "      <td>0</td>\n",
       "      <td>0</td>\n",
       "      <td>0</td>\n",
       "      <td>0</td>\n",
       "      <td>0</td>\n",
       "      <td>1</td>\n",
       "    </tr>\n",
       "    <tr>\n",
       "      <th>11</th>\n",
       "      <td>0</td>\n",
       "      <td>0</td>\n",
       "      <td>0</td>\n",
       "      <td>0</td>\n",
       "      <td>0</td>\n",
       "      <td>0</td>\n",
       "      <td>1</td>\n",
       "      <td>0</td>\n",
       "      <td>0</td>\n",
       "      <td>0</td>\n",
       "      <td>0</td>\n",
       "      <td>0</td>\n",
       "      <td>0</td>\n",
       "      <td>0</td>\n",
       "      <td>0</td>\n",
       "    </tr>\n",
       "    <tr>\n",
       "      <th>12</th>\n",
       "      <td>0</td>\n",
       "      <td>0</td>\n",
       "      <td>0</td>\n",
       "      <td>0</td>\n",
       "      <td>0</td>\n",
       "      <td>0</td>\n",
       "      <td>0</td>\n",
       "      <td>0</td>\n",
       "      <td>0</td>\n",
       "      <td>0</td>\n",
       "      <td>0</td>\n",
       "      <td>1</td>\n",
       "      <td>0</td>\n",
       "      <td>0</td>\n",
       "      <td>0</td>\n",
       "    </tr>\n",
       "    <tr>\n",
       "      <th>13</th>\n",
       "      <td>0</td>\n",
       "      <td>0</td>\n",
       "      <td>0</td>\n",
       "      <td>0</td>\n",
       "      <td>0</td>\n",
       "      <td>1</td>\n",
       "      <td>0</td>\n",
       "      <td>0</td>\n",
       "      <td>0</td>\n",
       "      <td>0</td>\n",
       "      <td>0</td>\n",
       "      <td>0</td>\n",
       "      <td>0</td>\n",
       "      <td>0</td>\n",
       "      <td>0</td>\n",
       "    </tr>\n",
       "    <tr>\n",
       "      <th>14</th>\n",
       "      <td>0</td>\n",
       "      <td>0</td>\n",
       "      <td>0</td>\n",
       "      <td>0</td>\n",
       "      <td>0</td>\n",
       "      <td>0</td>\n",
       "      <td>0</td>\n",
       "      <td>0</td>\n",
       "      <td>0</td>\n",
       "      <td>1</td>\n",
       "      <td>0</td>\n",
       "      <td>0</td>\n",
       "      <td>0</td>\n",
       "      <td>0</td>\n",
       "      <td>0</td>\n",
       "    </tr>\n",
       "  </tbody>\n",
       "</table>\n",
       "</div>"
      ],
      "text/plain": [
       "    Avengers the and game  DDLJ  bahubhali  brahamsta  gravity  hera pheri  \\\n",
       "0                       0     0          1          0        0           0   \n",
       "1                       0     0          0          1        0           0   \n",
       "2                       0     0          0          0        0           0   \n",
       "3                       0     1          0          0        0           0   \n",
       "4                       1     0          0          0        0           0   \n",
       "5                       0     0          0          0        0           0   \n",
       "6                       0     0          0          0        0           0   \n",
       "7                       0     0          0          0        0           0   \n",
       "8                       0     0          0          0        1           0   \n",
       "9                       0     0          0          0        0           0   \n",
       "10                      0     0          0          0        0           0   \n",
       "11                      0     0          0          0        0           0   \n",
       "12                      0     0          0          0        0           0   \n",
       "13                      0     0          0          0        0           1   \n",
       "14                      0     0          0          0        0           0   \n",
       "\n",
       "    housefull  intersteller  major  sholay  tanent  the dictator   titanic  \\\n",
       "0           0             0      0       0       0              0        0   \n",
       "1           0             0      0       0       0              0        0   \n",
       "2           0             0      0       0       0              0        0   \n",
       "3           0             0      0       0       0              0        0   \n",
       "4           0             0      0       0       0              0        0   \n",
       "5           0             0      0       0       1              0        0   \n",
       "6           0             0      1       0       0              0        0   \n",
       "7           0             1      0       0       0              0        0   \n",
       "8           0             0      0       0       0              0        0   \n",
       "9           0             0      0       0       0              0        1   \n",
       "10          0             0      0       0       0              0        0   \n",
       "11          1             0      0       0       0              0        0   \n",
       "12          0             0      0       0       0              1        0   \n",
       "13          0             0      0       0       0              0        0   \n",
       "14          0             0      0       1       0              0        0   \n",
       "\n",
       "    uri the sergical strike  yeh jawani hai diwani  \n",
       "0                         0                      0  \n",
       "1                         0                      0  \n",
       "2                         1                      0  \n",
       "3                         0                      0  \n",
       "4                         0                      0  \n",
       "5                         0                      0  \n",
       "6                         0                      0  \n",
       "7                         0                      0  \n",
       "8                         0                      0  \n",
       "9                         0                      0  \n",
       "10                        0                      1  \n",
       "11                        0                      0  \n",
       "12                        0                      0  \n",
       "13                        0                      0  \n",
       "14                        0                      0  "
      ]
     },
     "execution_count": 67,
     "metadata": {},
     "output_type": "execute_result"
    }
   ],
   "source": [
    "names.str.get_dummies()"
   ]
  },
  {
   "cell_type": "code",
   "execution_count": 68,
   "id": "071e1fa6-9c9d-45e9-9a59-d1c3a752c34b",
   "metadata": {},
   "outputs": [
    {
     "data": {
      "text/html": [
       "<div>\n",
       "<style scoped>\n",
       "    .dataframe tbody tr th:only-of-type {\n",
       "        vertical-align: middle;\n",
       "    }\n",
       "\n",
       "    .dataframe tbody tr th {\n",
       "        vertical-align: top;\n",
       "    }\n",
       "\n",
       "    .dataframe thead th {\n",
       "        text-align: right;\n",
       "    }\n",
       "</style>\n",
       "<table border=\"1\" class=\"dataframe\">\n",
       "  <thead>\n",
       "    <tr style=\"text-align: right;\">\n",
       "      <th></th>\n",
       "      <th>action</th>\n",
       "      <th>comedy</th>\n",
       "      <th>drama</th>\n",
       "      <th>mysterioushindi</th>\n",
       "      <th>romance</th>\n",
       "      <th>sci-fi</th>\n",
       "    </tr>\n",
       "  </thead>\n",
       "  <tbody>\n",
       "    <tr>\n",
       "      <th>0</th>\n",
       "      <td>1</td>\n",
       "      <td>0</td>\n",
       "      <td>0</td>\n",
       "      <td>0</td>\n",
       "      <td>0</td>\n",
       "      <td>0</td>\n",
       "    </tr>\n",
       "    <tr>\n",
       "      <th>1</th>\n",
       "      <td>0</td>\n",
       "      <td>0</td>\n",
       "      <td>0</td>\n",
       "      <td>1</td>\n",
       "      <td>0</td>\n",
       "      <td>0</td>\n",
       "    </tr>\n",
       "    <tr>\n",
       "      <th>2</th>\n",
       "      <td>1</td>\n",
       "      <td>0</td>\n",
       "      <td>0</td>\n",
       "      <td>0</td>\n",
       "      <td>0</td>\n",
       "      <td>0</td>\n",
       "    </tr>\n",
       "    <tr>\n",
       "      <th>3</th>\n",
       "      <td>0</td>\n",
       "      <td>0</td>\n",
       "      <td>0</td>\n",
       "      <td>0</td>\n",
       "      <td>1</td>\n",
       "      <td>0</td>\n",
       "    </tr>\n",
       "    <tr>\n",
       "      <th>4</th>\n",
       "      <td>1</td>\n",
       "      <td>0</td>\n",
       "      <td>0</td>\n",
       "      <td>0</td>\n",
       "      <td>0</td>\n",
       "      <td>0</td>\n",
       "    </tr>\n",
       "    <tr>\n",
       "      <th>5</th>\n",
       "      <td>0</td>\n",
       "      <td>0</td>\n",
       "      <td>0</td>\n",
       "      <td>0</td>\n",
       "      <td>0</td>\n",
       "      <td>1</td>\n",
       "    </tr>\n",
       "    <tr>\n",
       "      <th>6</th>\n",
       "      <td>1</td>\n",
       "      <td>0</td>\n",
       "      <td>0</td>\n",
       "      <td>0</td>\n",
       "      <td>0</td>\n",
       "      <td>0</td>\n",
       "    </tr>\n",
       "    <tr>\n",
       "      <th>7</th>\n",
       "      <td>0</td>\n",
       "      <td>0</td>\n",
       "      <td>0</td>\n",
       "      <td>0</td>\n",
       "      <td>0</td>\n",
       "      <td>1</td>\n",
       "    </tr>\n",
       "    <tr>\n",
       "      <th>8</th>\n",
       "      <td>0</td>\n",
       "      <td>0</td>\n",
       "      <td>0</td>\n",
       "      <td>0</td>\n",
       "      <td>0</td>\n",
       "      <td>1</td>\n",
       "    </tr>\n",
       "    <tr>\n",
       "      <th>9</th>\n",
       "      <td>0</td>\n",
       "      <td>0</td>\n",
       "      <td>1</td>\n",
       "      <td>0</td>\n",
       "      <td>0</td>\n",
       "      <td>0</td>\n",
       "    </tr>\n",
       "    <tr>\n",
       "      <th>10</th>\n",
       "      <td>0</td>\n",
       "      <td>0</td>\n",
       "      <td>0</td>\n",
       "      <td>0</td>\n",
       "      <td>1</td>\n",
       "      <td>0</td>\n",
       "    </tr>\n",
       "    <tr>\n",
       "      <th>11</th>\n",
       "      <td>0</td>\n",
       "      <td>1</td>\n",
       "      <td>0</td>\n",
       "      <td>0</td>\n",
       "      <td>0</td>\n",
       "      <td>0</td>\n",
       "    </tr>\n",
       "    <tr>\n",
       "      <th>12</th>\n",
       "      <td>0</td>\n",
       "      <td>1</td>\n",
       "      <td>0</td>\n",
       "      <td>0</td>\n",
       "      <td>0</td>\n",
       "      <td>0</td>\n",
       "    </tr>\n",
       "    <tr>\n",
       "      <th>13</th>\n",
       "      <td>0</td>\n",
       "      <td>1</td>\n",
       "      <td>0</td>\n",
       "      <td>0</td>\n",
       "      <td>0</td>\n",
       "      <td>0</td>\n",
       "    </tr>\n",
       "    <tr>\n",
       "      <th>14</th>\n",
       "      <td>0</td>\n",
       "      <td>0</td>\n",
       "      <td>1</td>\n",
       "      <td>0</td>\n",
       "      <td>0</td>\n",
       "      <td>0</td>\n",
       "    </tr>\n",
       "  </tbody>\n",
       "</table>\n",
       "</div>"
      ],
      "text/plain": [
       "    action  comedy  drama  mysterioushindi  romance  sci-fi\n",
       "0        1       0      0                0        0       0\n",
       "1        0       0      0                1        0       0\n",
       "2        1       0      0                0        0       0\n",
       "3        0       0      0                0        1       0\n",
       "4        1       0      0                0        0       0\n",
       "5        0       0      0                0        0       1\n",
       "6        1       0      0                0        0       0\n",
       "7        0       0      0                0        0       1\n",
       "8        0       0      0                0        0       1\n",
       "9        0       0      1                0        0       0\n",
       "10       0       0      0                0        1       0\n",
       "11       0       1      0                0        0       0\n",
       "12       0       1      0                0        0       0\n",
       "13       0       1      0                0        0       0\n",
       "14       0       0      1                0        0       0"
      ]
     },
     "execution_count": 68,
     "metadata": {},
     "output_type": "execute_result"
    }
   ],
   "source": [
    "movies['GENRE'].str.get_dummies()"
   ]
  },
  {
   "cell_type": "code",
   "execution_count": 69,
   "id": "cd6eb476-b13b-4d5c-a5bf-859d1dc8dad9",
   "metadata": {},
   "outputs": [
    {
     "ename": "ValueError",
     "evalue": "substring not found",
     "output_type": "error",
     "traceback": [
      "\u001b[1;31m---------------------------------------------------------------------------\u001b[0m",
      "\u001b[1;31mValueError\u001b[0m                                Traceback (most recent call last)",
      "Input \u001b[1;32mIn [69]\u001b[0m, in \u001b[0;36m<cell line: 1>\u001b[1;34m()\u001b[0m\n\u001b[1;32m----> 1\u001b[0m \u001b[43mnames\u001b[49m\u001b[38;5;241;43m.\u001b[39;49m\u001b[43mstr\u001b[49m\u001b[38;5;241;43m.\u001b[39;49m\u001b[43mindex\u001b[49m\u001b[43m(\u001b[49m\u001b[38;5;124;43m'\u001b[39;49m\u001b[38;5;124;43ma\u001b[39;49m\u001b[38;5;124;43m'\u001b[39;49m\u001b[43m)\u001b[49m\n",
      "File \u001b[1;32m~\\ANACONDA\\lib\\site-packages\\pandas\\core\\strings\\accessor.py:125\u001b[0m, in \u001b[0;36mforbid_nonstring_types.<locals>._forbid_nonstring_types.<locals>.wrapper\u001b[1;34m(self, *args, **kwargs)\u001b[0m\n\u001b[0;32m    120\u001b[0m     msg \u001b[38;5;241m=\u001b[39m (\n\u001b[0;32m    121\u001b[0m         \u001b[38;5;124mf\u001b[39m\u001b[38;5;124m\"\u001b[39m\u001b[38;5;124mCannot use .str.\u001b[39m\u001b[38;5;132;01m{\u001b[39;00mfunc_name\u001b[38;5;132;01m}\u001b[39;00m\u001b[38;5;124m with values of \u001b[39m\u001b[38;5;124m\"\u001b[39m\n\u001b[0;32m    122\u001b[0m         \u001b[38;5;124mf\u001b[39m\u001b[38;5;124m\"\u001b[39m\u001b[38;5;124minferred dtype \u001b[39m\u001b[38;5;124m'\u001b[39m\u001b[38;5;132;01m{\u001b[39;00m\u001b[38;5;28mself\u001b[39m\u001b[38;5;241m.\u001b[39m_inferred_dtype\u001b[38;5;132;01m}\u001b[39;00m\u001b[38;5;124m'\u001b[39m\u001b[38;5;124m.\u001b[39m\u001b[38;5;124m\"\u001b[39m\n\u001b[0;32m    123\u001b[0m     )\n\u001b[0;32m    124\u001b[0m     \u001b[38;5;28;01mraise\u001b[39;00m \u001b[38;5;167;01mTypeError\u001b[39;00m(msg)\n\u001b[1;32m--> 125\u001b[0m \u001b[38;5;28;01mreturn\u001b[39;00m func(\u001b[38;5;28mself\u001b[39m, \u001b[38;5;241m*\u001b[39margs, \u001b[38;5;241m*\u001b[39m\u001b[38;5;241m*\u001b[39mkwargs)\n",
      "File \u001b[1;32m~\\ANACONDA\\lib\\site-packages\\pandas\\core\\strings\\accessor.py:2769\u001b[0m, in \u001b[0;36mStringMethods.index\u001b[1;34m(self, sub, start, end)\u001b[0m\n\u001b[0;32m   2766\u001b[0m     msg \u001b[38;5;241m=\u001b[39m \u001b[38;5;124mf\u001b[39m\u001b[38;5;124m\"\u001b[39m\u001b[38;5;124mexpected a string object, not \u001b[39m\u001b[38;5;132;01m{\u001b[39;00m\u001b[38;5;28mtype\u001b[39m(sub)\u001b[38;5;241m.\u001b[39m\u001b[38;5;18m__name__\u001b[39m\u001b[38;5;132;01m}\u001b[39;00m\u001b[38;5;124m\"\u001b[39m\n\u001b[0;32m   2767\u001b[0m     \u001b[38;5;28;01mraise\u001b[39;00m \u001b[38;5;167;01mTypeError\u001b[39;00m(msg)\n\u001b[1;32m-> 2769\u001b[0m result \u001b[38;5;241m=\u001b[39m \u001b[38;5;28;43mself\u001b[39;49m\u001b[38;5;241;43m.\u001b[39;49m\u001b[43m_data\u001b[49m\u001b[38;5;241;43m.\u001b[39;49m\u001b[43marray\u001b[49m\u001b[38;5;241;43m.\u001b[39;49m\u001b[43m_str_index\u001b[49m\u001b[43m(\u001b[49m\u001b[43msub\u001b[49m\u001b[43m,\u001b[49m\u001b[43m \u001b[49m\u001b[43mstart\u001b[49m\u001b[38;5;241;43m=\u001b[39;49m\u001b[43mstart\u001b[49m\u001b[43m,\u001b[49m\u001b[43m \u001b[49m\u001b[43mend\u001b[49m\u001b[38;5;241;43m=\u001b[39;49m\u001b[43mend\u001b[49m\u001b[43m)\u001b[49m\n\u001b[0;32m   2770\u001b[0m \u001b[38;5;28;01mreturn\u001b[39;00m \u001b[38;5;28mself\u001b[39m\u001b[38;5;241m.\u001b[39m_wrap_result(result, returns_string\u001b[38;5;241m=\u001b[39m\u001b[38;5;28;01mFalse\u001b[39;00m)\n",
      "File \u001b[1;32m~\\ANACONDA\\lib\\site-packages\\pandas\\core\\strings\\object_array.py:264\u001b[0m, in \u001b[0;36mObjectStringArrayMixin._str_index\u001b[1;34m(self, sub, start, end)\u001b[0m\n\u001b[0;32m    262\u001b[0m \u001b[38;5;28;01melse\u001b[39;00m:\n\u001b[0;32m    263\u001b[0m     f \u001b[38;5;241m=\u001b[39m \u001b[38;5;28;01mlambda\u001b[39;00m x: x\u001b[38;5;241m.\u001b[39mindex(sub, start, end)\n\u001b[1;32m--> 264\u001b[0m \u001b[38;5;28;01mreturn\u001b[39;00m \u001b[38;5;28;43mself\u001b[39;49m\u001b[38;5;241;43m.\u001b[39;49m\u001b[43m_str_map\u001b[49m\u001b[43m(\u001b[49m\u001b[43mf\u001b[49m\u001b[43m,\u001b[49m\u001b[43m \u001b[49m\u001b[43mdtype\u001b[49m\u001b[38;5;241;43m=\u001b[39;49m\u001b[38;5;124;43m\"\u001b[39;49m\u001b[38;5;124;43mint64\u001b[39;49m\u001b[38;5;124;43m\"\u001b[39;49m\u001b[43m)\u001b[49m\n",
      "File \u001b[1;32m~\\ANACONDA\\lib\\site-packages\\pandas\\core\\strings\\object_array.py:71\u001b[0m, in \u001b[0;36mObjectStringArrayMixin._str_map\u001b[1;34m(self, f, na_value, dtype, convert)\u001b[0m\n\u001b[0;32m     69\u001b[0m map_convert \u001b[38;5;241m=\u001b[39m convert \u001b[38;5;129;01mand\u001b[39;00m \u001b[38;5;129;01mnot\u001b[39;00m np\u001b[38;5;241m.\u001b[39mall(mask)\n\u001b[0;32m     70\u001b[0m \u001b[38;5;28;01mtry\u001b[39;00m:\n\u001b[1;32m---> 71\u001b[0m     result \u001b[38;5;241m=\u001b[39m \u001b[43mlib\u001b[49m\u001b[38;5;241;43m.\u001b[39;49m\u001b[43mmap_infer_mask\u001b[49m\u001b[43m(\u001b[49m\u001b[43marr\u001b[49m\u001b[43m,\u001b[49m\u001b[43m \u001b[49m\u001b[43mf\u001b[49m\u001b[43m,\u001b[49m\u001b[43m \u001b[49m\u001b[43mmask\u001b[49m\u001b[38;5;241;43m.\u001b[39;49m\u001b[43mview\u001b[49m\u001b[43m(\u001b[49m\u001b[43mnp\u001b[49m\u001b[38;5;241;43m.\u001b[39;49m\u001b[43muint8\u001b[49m\u001b[43m)\u001b[49m\u001b[43m,\u001b[49m\u001b[43m \u001b[49m\u001b[43mmap_convert\u001b[49m\u001b[43m)\u001b[49m\n\u001b[0;32m     72\u001b[0m \u001b[38;5;28;01mexcept\u001b[39;00m (\u001b[38;5;167;01mTypeError\u001b[39;00m, \u001b[38;5;167;01mAttributeError\u001b[39;00m) \u001b[38;5;28;01mas\u001b[39;00m err:\n\u001b[0;32m     73\u001b[0m     \u001b[38;5;66;03m# Reraise the exception if callable `f` got wrong number of args.\u001b[39;00m\n\u001b[0;32m     74\u001b[0m     \u001b[38;5;66;03m# The user may want to be warned by this, instead of getting NaN\u001b[39;00m\n\u001b[0;32m     75\u001b[0m     p_err \u001b[38;5;241m=\u001b[39m (\n\u001b[0;32m     76\u001b[0m         \u001b[38;5;124mr\u001b[39m\u001b[38;5;124m\"\u001b[39m\u001b[38;5;124m((takes)|(missing)) (?(2)from \u001b[39m\u001b[38;5;124m\\\u001b[39m\u001b[38;5;124md+ to )?\u001b[39m\u001b[38;5;124m\\\u001b[39m\u001b[38;5;124md+ \u001b[39m\u001b[38;5;124m\"\u001b[39m\n\u001b[0;32m     77\u001b[0m         \u001b[38;5;124mr\u001b[39m\u001b[38;5;124m\"\u001b[39m\u001b[38;5;124m(?(3)required )positional arguments?\u001b[39m\u001b[38;5;124m\"\u001b[39m\n\u001b[0;32m     78\u001b[0m     )\n",
      "File \u001b[1;32m~\\ANACONDA\\lib\\site-packages\\pandas\\_libs\\lib.pyx:2822\u001b[0m, in \u001b[0;36mpandas._libs.lib.map_infer_mask\u001b[1;34m()\u001b[0m\n",
      "File \u001b[1;32m~\\ANACONDA\\lib\\site-packages\\pandas\\core\\strings\\object_array.py:263\u001b[0m, in \u001b[0;36mObjectStringArrayMixin._str_index.<locals>.<lambda>\u001b[1;34m(x)\u001b[0m\n\u001b[0;32m    261\u001b[0m     f \u001b[38;5;241m=\u001b[39m \u001b[38;5;28;01mlambda\u001b[39;00m x: x\u001b[38;5;241m.\u001b[39mindex(sub, start, end)\n\u001b[0;32m    262\u001b[0m \u001b[38;5;28;01melse\u001b[39;00m:\n\u001b[1;32m--> 263\u001b[0m     f \u001b[38;5;241m=\u001b[39m \u001b[38;5;28;01mlambda\u001b[39;00m x: \u001b[43mx\u001b[49m\u001b[38;5;241;43m.\u001b[39;49m\u001b[43mindex\u001b[49m\u001b[43m(\u001b[49m\u001b[43msub\u001b[49m\u001b[43m,\u001b[49m\u001b[43m \u001b[49m\u001b[43mstart\u001b[49m\u001b[43m,\u001b[49m\u001b[43m \u001b[49m\u001b[43mend\u001b[49m\u001b[43m)\u001b[49m\n\u001b[0;32m    264\u001b[0m \u001b[38;5;28;01mreturn\u001b[39;00m \u001b[38;5;28mself\u001b[39m\u001b[38;5;241m.\u001b[39m_str_map(f, dtype\u001b[38;5;241m=\u001b[39m\u001b[38;5;124m\"\u001b[39m\u001b[38;5;124mint64\u001b[39m\u001b[38;5;124m\"\u001b[39m)\n",
      "\u001b[1;31mValueError\u001b[0m: substring not found"
     ]
    }
   ],
   "source": [
    "names.str.index('a')"
   ]
  },
  {
   "cell_type": "code",
   "execution_count": 70,
   "id": "baa8a69d-0420-44f1-b78f-8865e0d2f094",
   "metadata": {},
   "outputs": [
    {
     "data": {
      "text/plain": [
       "0                      [bahubhali]\n",
       "1                      [brahamsta]\n",
       "2     [uri th,  s, rgical strik, ]\n",
       "3                           [DDLJ]\n",
       "4      [Av, ng, rs th,  and gam, ]\n",
       "5                        [tan, nt]\n",
       "6                          [major]\n",
       "7                [int, rst, ll, r]\n",
       "8                        [gravity]\n",
       "9                        [titanic]\n",
       "10        [y, h jawani hai diwani]\n",
       "11                    [hous, full]\n",
       "12                [th,  dictator ]\n",
       "13                  [h, ra ph, ri]\n",
       "14                        [sholay]\n",
       "Name: NAME, dtype: object"
      ]
     },
     "execution_count": 70,
     "metadata": {},
     "output_type": "execute_result"
    }
   ],
   "source": [
    "names.str.split('e')"
   ]
  },
  {
   "cell_type": "code",
   "execution_count": 71,
   "id": "bb7ad9c7-0dff-4530-81d6-82314a3b4e86",
   "metadata": {},
   "outputs": [
    {
     "data": {
      "text/plain": [
       "0                                 bahubhali\n",
       "1                                 brahamsta\n",
       "2       uri th--,-- s--,--rgical strik--,--\n",
       "3                                      DDLJ\n",
       "4     Av--,--ng--,--rs th--,-- and gam--,--\n",
       "5                                tan--,--nt\n",
       "6                                     major\n",
       "7                  int--,--rst--,--ll--,--r\n",
       "8                                   gravity\n",
       "9                                   titanic\n",
       "10                y--,--h jawani hai diwani\n",
       "11                            hous--,--full\n",
       "12                        th--,-- dictator \n",
       "13                       h--,--ra ph--,--ri\n",
       "14                                   sholay\n",
       "Name: NAME, dtype: object"
      ]
     },
     "execution_count": 71,
     "metadata": {},
     "output_type": "execute_result"
    }
   ],
   "source": [
    "names.str.split('e').str.join('--,--')"
   ]
  },
  {
   "cell_type": "markdown",
   "id": "2cfd4808-6f00-4d33-9945-67f790d0400b",
   "metadata": {},
   "source": [
    "#to remove spaces"
   ]
  },
  {
   "cell_type": "code",
   "execution_count": 72,
   "id": "a905ce05-8903-4a49-ab15-ca41e2bfba54",
   "metadata": {},
   "outputs": [
    {
     "data": {
      "text/plain": [
       "0                   bahubhali\n",
       "1                   brahamsta\n",
       "2     uri the sergical strike\n",
       "3                        DDLJ\n",
       "4       Avengers the and game\n",
       "5                      tanent\n",
       "6                       major\n",
       "7                intersteller\n",
       "8                     gravity\n",
       "9                     titanic\n",
       "10      yeh jawani hai diwani\n",
       "11                  housefull\n",
       "12               the dictator\n",
       "13                 hera pheri\n",
       "14                     sholay\n",
       "Name: NAME, dtype: object"
      ]
     },
     "execution_count": 72,
     "metadata": {},
     "output_type": "execute_result"
    }
   ],
   "source": [
    "names.str.strip()"
   ]
  },
  {
   "cell_type": "markdown",
   "id": "a22c6e96-c531-45b6-a76d-fc2d5c14f84e",
   "metadata": {},
   "source": [
    "# ]"
   ]
  },
  {
   "cell_type": "markdown",
   "id": "2361b154-0a16-4dbc-9a9d-601b32b81f93",
   "metadata": {},
   "source": [
    "# Average of each genre"
   ]
  },
  {
   "cell_type": "code",
   "execution_count": 73,
   "id": "06d09f9f-5776-4a6a-84e9-b49c3325dd29",
   "metadata": {},
   "outputs": [
    {
     "data": {
      "text/plain": [
       "array(['action', 'mysterioushindi', 'romance', 'sci-fi', 'drama',\n",
       "       'comedy'], dtype=object)"
      ]
     },
     "execution_count": 73,
     "metadata": {},
     "output_type": "execute_result"
    }
   ],
   "source": [
    "movies['GENRE'].unique()"
   ]
  },
  {
   "cell_type": "code",
   "execution_count": 74,
   "id": "a589e842-9c8c-4b21-afd7-791799aa018b",
   "metadata": {},
   "outputs": [
    {
     "data": {
      "text/plain": [
       "6"
      ]
     },
     "execution_count": 74,
     "metadata": {},
     "output_type": "execute_result"
    }
   ],
   "source": [
    "movies['GENRE'].nunique()"
   ]
  },
  {
   "cell_type": "code",
   "execution_count": 75,
   "id": "8cac6910-67ea-43f8-9d20-8a6e1f78b158",
   "metadata": {},
   "outputs": [
    {
     "name": "stdout",
     "output_type": "stream",
     "text": [
      "action 152.5\n",
      "mysterioushindi 180.0\n",
      "romance 150.0\n",
      "sci-fi 156.66666666666666\n",
      "drama 165.0\n",
      "comedy 136.66666666666666\n"
     ]
    }
   ],
   "source": [
    "for genre in movies['GENRE'].unique():\n",
    "    print(genre, movies[movies['GENRE']==genre]['DURATION'].mean())"
   ]
  },
  {
   "cell_type": "code",
   "execution_count": 76,
   "id": "8421f576-42e9-4cc2-affd-264c0ab7cd2a",
   "metadata": {},
   "outputs": [
    {
     "data": {
      "text/plain": [
       "GENRE\n",
       "action             152.500000\n",
       "comedy             136.666667\n",
       "drama              165.000000\n",
       "mysterioushindi    180.000000\n",
       "romance            150.000000\n",
       "sci-fi             156.666667\n",
       "Name: DURATION, dtype: float64"
      ]
     },
     "execution_count": 76,
     "metadata": {},
     "output_type": "execute_result"
    }
   ],
   "source": [
    "movies.groupby('GENRE')['DURATION'].mean()"
   ]
  },
  {
   "cell_type": "code",
   "execution_count": 77,
   "id": "275d5053-abbb-4fa1-a19e-7a5bf861cbbc",
   "metadata": {},
   "outputs": [
    {
     "data": {
      "text/plain": [
       "GENRE            INDUSTRY \n",
       "action           bollywood    160.000000\n",
       "                 hollywood    120.000000\n",
       "                 tollywood    170.000000\n",
       "comedy           bollywood    145.000000\n",
       "                 hollywood    120.000000\n",
       "drama            bollywood    150.000000\n",
       "                 hollywood    180.000000\n",
       "mysterioushindi  hollywood    180.000000\n",
       "romance          bollywood    150.000000\n",
       "                 hollywood    150.000000\n",
       "sci-fi           hollywood    156.666667\n",
       "Name: DURATION, dtype: float64"
      ]
     },
     "execution_count": 77,
     "metadata": {},
     "output_type": "execute_result"
    }
   ],
   "source": [
    "movies.groupby(['GENRE','INDUSTRY'])['DURATION'].mean()"
   ]
  },
  {
   "cell_type": "code",
   "execution_count": 78,
   "id": "576e56de-ab0f-42d5-87db-8848e24211ff",
   "metadata": {},
   "outputs": [
    {
     "data": {
      "text/plain": [
       "INDUSTRY   GENRE          \n",
       "bollywood  action             160.000000\n",
       "           comedy             145.000000\n",
       "           drama              150.000000\n",
       "           romance            150.000000\n",
       "hollywood  action             120.000000\n",
       "           comedy             120.000000\n",
       "           drama              180.000000\n",
       "           mysterioushindi    180.000000\n",
       "           romance            150.000000\n",
       "           sci-fi             156.666667\n",
       "tollywood  action             170.000000\n",
       "Name: DURATION, dtype: float64"
      ]
     },
     "execution_count": 78,
     "metadata": {},
     "output_type": "execute_result"
    }
   ],
   "source": [
    "movies.groupby(['INDUSTRY','GENRE'])['DURATION'].mean()"
   ]
  },
  {
   "cell_type": "code",
   "execution_count": 79,
   "id": "f9f05177-63cf-41e8-b38d-f997a71855ec",
   "metadata": {},
   "outputs": [
    {
     "data": {
      "text/html": [
       "<div>\n",
       "<style scoped>\n",
       "    .dataframe tbody tr th:only-of-type {\n",
       "        vertical-align: middle;\n",
       "    }\n",
       "\n",
       "    .dataframe tbody tr th {\n",
       "        vertical-align: top;\n",
       "    }\n",
       "\n",
       "    .dataframe thead th {\n",
       "        text-align: right;\n",
       "    }\n",
       "</style>\n",
       "<table border=\"1\" class=\"dataframe\">\n",
       "  <thead>\n",
       "    <tr style=\"text-align: right;\">\n",
       "      <th></th>\n",
       "      <th>I.D.</th>\n",
       "      <th>DURATION</th>\n",
       "      <th>RATING</th>\n",
       "    </tr>\n",
       "  </thead>\n",
       "  <tbody>\n",
       "    <tr>\n",
       "      <th>count</th>\n",
       "      <td>15.000000</td>\n",
       "      <td>15.000000</td>\n",
       "      <td>15.000000</td>\n",
       "    </tr>\n",
       "    <tr>\n",
       "      <th>mean</th>\n",
       "      <td>8.000000</td>\n",
       "      <td>153.333333</td>\n",
       "      <td>7.966667</td>\n",
       "    </tr>\n",
       "    <tr>\n",
       "      <th>std</th>\n",
       "      <td>4.472136</td>\n",
       "      <td>22.253946</td>\n",
       "      <td>1.641718</td>\n",
       "    </tr>\n",
       "    <tr>\n",
       "      <th>min</th>\n",
       "      <td>1.000000</td>\n",
       "      <td>120.000000</td>\n",
       "      <td>5.000000</td>\n",
       "    </tr>\n",
       "    <tr>\n",
       "      <th>25%</th>\n",
       "      <td>4.500000</td>\n",
       "      <td>140.000000</td>\n",
       "      <td>7.000000</td>\n",
       "    </tr>\n",
       "    <tr>\n",
       "      <th>50%</th>\n",
       "      <td>8.000000</td>\n",
       "      <td>150.000000</td>\n",
       "      <td>8.500000</td>\n",
       "    </tr>\n",
       "    <tr>\n",
       "      <th>75%</th>\n",
       "      <td>11.500000</td>\n",
       "      <td>175.000000</td>\n",
       "      <td>9.000000</td>\n",
       "    </tr>\n",
       "    <tr>\n",
       "      <th>max</th>\n",
       "      <td>15.000000</td>\n",
       "      <td>190.000000</td>\n",
       "      <td>10.000000</td>\n",
       "    </tr>\n",
       "  </tbody>\n",
       "</table>\n",
       "</div>"
      ],
      "text/plain": [
       "            I.D.    DURATION     RATING\n",
       "count  15.000000   15.000000  15.000000\n",
       "mean    8.000000  153.333333   7.966667\n",
       "std     4.472136   22.253946   1.641718\n",
       "min     1.000000  120.000000   5.000000\n",
       "25%     4.500000  140.000000   7.000000\n",
       "50%     8.000000  150.000000   8.500000\n",
       "75%    11.500000  175.000000   9.000000\n",
       "max    15.000000  190.000000  10.000000"
      ]
     },
     "execution_count": 79,
     "metadata": {},
     "output_type": "execute_result"
    }
   ],
   "source": [
    "movies.describe()"
   ]
  },
  {
   "cell_type": "code",
   "execution_count": 81,
   "id": "9447b37c-fd1b-4060-8127-7ae0df5ecd9c",
   "metadata": {},
   "outputs": [],
   "source": [
    "# movies.drop(['I.D.'], axis=1, inplace=True)"
   ]
  },
  {
   "cell_type": "code",
   "execution_count": 82,
   "id": "cc234603-ca0f-4acc-ace6-59e8828bed70",
   "metadata": {},
   "outputs": [],
   "source": [
    "movies=pd.read_csv(r'my movies.csv',index_col=0)"
   ]
  },
  {
   "cell_type": "code",
   "execution_count": 84,
   "id": "4b83f565-e1c1-4df1-91fa-a977bead0b1d",
   "metadata": {},
   "outputs": [
    {
     "data": {
      "text/html": [
       "<div>\n",
       "<style scoped>\n",
       "    .dataframe tbody tr th:only-of-type {\n",
       "        vertical-align: middle;\n",
       "    }\n",
       "\n",
       "    .dataframe tbody tr th {\n",
       "        vertical-align: top;\n",
       "    }\n",
       "\n",
       "    .dataframe thead th {\n",
       "        text-align: right;\n",
       "    }\n",
       "</style>\n",
       "<table border=\"1\" class=\"dataframe\">\n",
       "  <thead>\n",
       "    <tr style=\"text-align: right;\">\n",
       "      <th></th>\n",
       "      <th>NAME</th>\n",
       "      <th>INDUSTRY</th>\n",
       "      <th>GENRE</th>\n",
       "      <th>LANGUAGE</th>\n",
       "      <th>DURATION</th>\n",
       "      <th>RATING</th>\n",
       "    </tr>\n",
       "    <tr>\n",
       "      <th>I.D.</th>\n",
       "      <th></th>\n",
       "      <th></th>\n",
       "      <th></th>\n",
       "      <th></th>\n",
       "      <th></th>\n",
       "      <th></th>\n",
       "    </tr>\n",
       "  </thead>\n",
       "  <tbody>\n",
       "    <tr>\n",
       "      <th>1</th>\n",
       "      <td>bahubhali</td>\n",
       "      <td>tollywood</td>\n",
       "      <td>action</td>\n",
       "      <td>telgue</td>\n",
       "      <td>170</td>\n",
       "      <td>9.5</td>\n",
       "    </tr>\n",
       "    <tr>\n",
       "      <th>2</th>\n",
       "      <td>brahamsta</td>\n",
       "      <td>hollywood</td>\n",
       "      <td>mysterioushindi</td>\n",
       "      <td>NaN</td>\n",
       "      <td>180</td>\n",
       "      <td>5.0</td>\n",
       "    </tr>\n",
       "    <tr>\n",
       "      <th>3</th>\n",
       "      <td>uri the sergical strike</td>\n",
       "      <td>hollywood</td>\n",
       "      <td>action</td>\n",
       "      <td>hindi</td>\n",
       "      <td>120</td>\n",
       "      <td>10.0</td>\n",
       "    </tr>\n",
       "    <tr>\n",
       "      <th>4</th>\n",
       "      <td>DDLJ</td>\n",
       "      <td>hollywood</td>\n",
       "      <td>romance</td>\n",
       "      <td>hindi</td>\n",
       "      <td>150</td>\n",
       "      <td>10.0</td>\n",
       "    </tr>\n",
       "    <tr>\n",
       "      <th>5</th>\n",
       "      <td>Avengers the and game</td>\n",
       "      <td>bollywood</td>\n",
       "      <td>action</td>\n",
       "      <td>english</td>\n",
       "      <td>180</td>\n",
       "      <td>9.0</td>\n",
       "    </tr>\n",
       "    <tr>\n",
       "      <th>6</th>\n",
       "      <td>tanent</td>\n",
       "      <td>hollywood</td>\n",
       "      <td>sci-fi</td>\n",
       "      <td>english</td>\n",
       "      <td>150</td>\n",
       "      <td>8.5</td>\n",
       "    </tr>\n",
       "    <tr>\n",
       "      <th>7</th>\n",
       "      <td>major</td>\n",
       "      <td>bollywood</td>\n",
       "      <td>action</td>\n",
       "      <td>hindi</td>\n",
       "      <td>140</td>\n",
       "      <td>8.0</td>\n",
       "    </tr>\n",
       "    <tr>\n",
       "      <th>8</th>\n",
       "      <td>intersteller</td>\n",
       "      <td>hollywood</td>\n",
       "      <td>sci-fi</td>\n",
       "      <td>english</td>\n",
       "      <td>190</td>\n",
       "      <td>7.0</td>\n",
       "    </tr>\n",
       "    <tr>\n",
       "      <th>9</th>\n",
       "      <td>gravity</td>\n",
       "      <td>hollywood</td>\n",
       "      <td>sci-fi</td>\n",
       "      <td>english</td>\n",
       "      <td>130</td>\n",
       "      <td>8.0</td>\n",
       "    </tr>\n",
       "    <tr>\n",
       "      <th>10</th>\n",
       "      <td>titanic</td>\n",
       "      <td>hollywood</td>\n",
       "      <td>drama</td>\n",
       "      <td>english</td>\n",
       "      <td>180</td>\n",
       "      <td>9.0</td>\n",
       "    </tr>\n",
       "    <tr>\n",
       "      <th>11</th>\n",
       "      <td>yeh jawani hai diwani</td>\n",
       "      <td>bollywood</td>\n",
       "      <td>romance</td>\n",
       "      <td>hindi</td>\n",
       "      <td>150</td>\n",
       "      <td>5.0</td>\n",
       "    </tr>\n",
       "    <tr>\n",
       "      <th>12</th>\n",
       "      <td>housefull</td>\n",
       "      <td>bollywood</td>\n",
       "      <td>comedy</td>\n",
       "      <td>english</td>\n",
       "      <td>150</td>\n",
       "      <td>6.0</td>\n",
       "    </tr>\n",
       "    <tr>\n",
       "      <th>13</th>\n",
       "      <td>the dictator</td>\n",
       "      <td>hollywood</td>\n",
       "      <td>comedy</td>\n",
       "      <td>hindi</td>\n",
       "      <td>120</td>\n",
       "      <td>7.0</td>\n",
       "    </tr>\n",
       "    <tr>\n",
       "      <th>14</th>\n",
       "      <td>hera pheri</td>\n",
       "      <td>bollywood</td>\n",
       "      <td>comedy</td>\n",
       "      <td>hindi</td>\n",
       "      <td>140</td>\n",
       "      <td>9.0</td>\n",
       "    </tr>\n",
       "    <tr>\n",
       "      <th>15</th>\n",
       "      <td>sholay</td>\n",
       "      <td>bollywood</td>\n",
       "      <td>drama</td>\n",
       "      <td>hindi</td>\n",
       "      <td>150</td>\n",
       "      <td>8.5</td>\n",
       "    </tr>\n",
       "  </tbody>\n",
       "</table>\n",
       "</div>"
      ],
      "text/plain": [
       "                         NAME   INDUSTRY            GENRE LANGUAGE  DURATION  \\\n",
       "I.D.                                                                           \n",
       "1                   bahubhali  tollywood           action   telgue       170   \n",
       "2                   brahamsta  hollywood  mysterioushindi      NaN       180   \n",
       "3     uri the sergical strike  hollywood           action    hindi       120   \n",
       "4                        DDLJ  hollywood          romance    hindi       150   \n",
       "5       Avengers the and game  bollywood           action  english       180   \n",
       "6                      tanent  hollywood           sci-fi  english       150   \n",
       "7                       major  bollywood           action    hindi       140   \n",
       "8                intersteller  hollywood           sci-fi  english       190   \n",
       "9                     gravity  hollywood           sci-fi  english       130   \n",
       "10                    titanic  hollywood            drama  english       180   \n",
       "11      yeh jawani hai diwani  bollywood          romance    hindi       150   \n",
       "12                  housefull  bollywood           comedy  english       150   \n",
       "13              the dictator   hollywood           comedy    hindi       120   \n",
       "14                 hera pheri  bollywood           comedy    hindi       140   \n",
       "15                     sholay  bollywood            drama    hindi       150   \n",
       "\n",
       "      RATING  \n",
       "I.D.          \n",
       "1        9.5  \n",
       "2        5.0  \n",
       "3       10.0  \n",
       "4       10.0  \n",
       "5        9.0  \n",
       "6        8.5  \n",
       "7        8.0  \n",
       "8        7.0  \n",
       "9        8.0  \n",
       "10       9.0  \n",
       "11       5.0  \n",
       "12       6.0  \n",
       "13       7.0  \n",
       "14       9.0  \n",
       "15       8.5  "
      ]
     },
     "execution_count": 84,
     "metadata": {},
     "output_type": "execute_result"
    }
   ],
   "source": [
    "movies"
   ]
  },
  {
   "cell_type": "code",
   "execution_count": 88,
   "id": "6401a3e3-150e-4659-bf63-448a701b995c",
   "metadata": {},
   "outputs": [
    {
     "data": {
      "text/html": [
       "<div>\n",
       "<style scoped>\n",
       "    .dataframe tbody tr th:only-of-type {\n",
       "        vertical-align: middle;\n",
       "    }\n",
       "\n",
       "    .dataframe tbody tr th {\n",
       "        vertical-align: top;\n",
       "    }\n",
       "\n",
       "    .dataframe thead th {\n",
       "        text-align: right;\n",
       "    }\n",
       "</style>\n",
       "<table border=\"1\" class=\"dataframe\">\n",
       "  <thead>\n",
       "    <tr style=\"text-align: right;\">\n",
       "      <th></th>\n",
       "      <th>NAME</th>\n",
       "      <th>INDUSTRY</th>\n",
       "      <th>GENRE</th>\n",
       "      <th>LANGUAGE</th>\n",
       "      <th>DURATION</th>\n",
       "      <th>RATING</th>\n",
       "    </tr>\n",
       "  </thead>\n",
       "  <tbody>\n",
       "    <tr>\n",
       "      <th>count</th>\n",
       "      <td>15</td>\n",
       "      <td>15</td>\n",
       "      <td>15</td>\n",
       "      <td>14</td>\n",
       "      <td>15.000000</td>\n",
       "      <td>15.000000</td>\n",
       "    </tr>\n",
       "    <tr>\n",
       "      <th>unique</th>\n",
       "      <td>15</td>\n",
       "      <td>3</td>\n",
       "      <td>6</td>\n",
       "      <td>3</td>\n",
       "      <td>NaN</td>\n",
       "      <td>NaN</td>\n",
       "    </tr>\n",
       "    <tr>\n",
       "      <th>top</th>\n",
       "      <td>bahubhali</td>\n",
       "      <td>hollywood</td>\n",
       "      <td>action</td>\n",
       "      <td>hindi</td>\n",
       "      <td>NaN</td>\n",
       "      <td>NaN</td>\n",
       "    </tr>\n",
       "    <tr>\n",
       "      <th>freq</th>\n",
       "      <td>1</td>\n",
       "      <td>8</td>\n",
       "      <td>4</td>\n",
       "      <td>7</td>\n",
       "      <td>NaN</td>\n",
       "      <td>NaN</td>\n",
       "    </tr>\n",
       "    <tr>\n",
       "      <th>mean</th>\n",
       "      <td>NaN</td>\n",
       "      <td>NaN</td>\n",
       "      <td>NaN</td>\n",
       "      <td>NaN</td>\n",
       "      <td>153.333333</td>\n",
       "      <td>7.966667</td>\n",
       "    </tr>\n",
       "    <tr>\n",
       "      <th>std</th>\n",
       "      <td>NaN</td>\n",
       "      <td>NaN</td>\n",
       "      <td>NaN</td>\n",
       "      <td>NaN</td>\n",
       "      <td>22.253946</td>\n",
       "      <td>1.641718</td>\n",
       "    </tr>\n",
       "    <tr>\n",
       "      <th>min</th>\n",
       "      <td>NaN</td>\n",
       "      <td>NaN</td>\n",
       "      <td>NaN</td>\n",
       "      <td>NaN</td>\n",
       "      <td>120.000000</td>\n",
       "      <td>5.000000</td>\n",
       "    </tr>\n",
       "    <tr>\n",
       "      <th>25%</th>\n",
       "      <td>NaN</td>\n",
       "      <td>NaN</td>\n",
       "      <td>NaN</td>\n",
       "      <td>NaN</td>\n",
       "      <td>140.000000</td>\n",
       "      <td>7.000000</td>\n",
       "    </tr>\n",
       "    <tr>\n",
       "      <th>50%</th>\n",
       "      <td>NaN</td>\n",
       "      <td>NaN</td>\n",
       "      <td>NaN</td>\n",
       "      <td>NaN</td>\n",
       "      <td>150.000000</td>\n",
       "      <td>8.500000</td>\n",
       "    </tr>\n",
       "    <tr>\n",
       "      <th>75%</th>\n",
       "      <td>NaN</td>\n",
       "      <td>NaN</td>\n",
       "      <td>NaN</td>\n",
       "      <td>NaN</td>\n",
       "      <td>175.000000</td>\n",
       "      <td>9.000000</td>\n",
       "    </tr>\n",
       "    <tr>\n",
       "      <th>max</th>\n",
       "      <td>NaN</td>\n",
       "      <td>NaN</td>\n",
       "      <td>NaN</td>\n",
       "      <td>NaN</td>\n",
       "      <td>190.000000</td>\n",
       "      <td>10.000000</td>\n",
       "    </tr>\n",
       "  </tbody>\n",
       "</table>\n",
       "</div>"
      ],
      "text/plain": [
       "             NAME   INDUSTRY   GENRE LANGUAGE    DURATION     RATING\n",
       "count          15         15      15       14   15.000000  15.000000\n",
       "unique         15          3       6        3         NaN        NaN\n",
       "top     bahubhali  hollywood  action    hindi         NaN        NaN\n",
       "freq            1          8       4        7         NaN        NaN\n",
       "mean          NaN        NaN     NaN      NaN  153.333333   7.966667\n",
       "std           NaN        NaN     NaN      NaN   22.253946   1.641718\n",
       "min           NaN        NaN     NaN      NaN  120.000000   5.000000\n",
       "25%           NaN        NaN     NaN      NaN  140.000000   7.000000\n",
       "50%           NaN        NaN     NaN      NaN  150.000000   8.500000\n",
       "75%           NaN        NaN     NaN      NaN  175.000000   9.000000\n",
       "max           NaN        NaN     NaN      NaN  190.000000  10.000000"
      ]
     },
     "execution_count": 88,
     "metadata": {},
     "output_type": "execute_result"
    }
   ],
   "source": [
    "movies.describe(include='all')"
   ]
  },
  {
   "cell_type": "code",
   "execution_count": 90,
   "id": "56d66397-d65c-42e2-9d9a-2bb18f6d6eb4",
   "metadata": {},
   "outputs": [
    {
     "data": {
      "text/html": [
       "<div>\n",
       "<style scoped>\n",
       "    .dataframe tbody tr th:only-of-type {\n",
       "        vertical-align: middle;\n",
       "    }\n",
       "\n",
       "    .dataframe tbody tr th {\n",
       "        vertical-align: top;\n",
       "    }\n",
       "\n",
       "    .dataframe thead th {\n",
       "        text-align: right;\n",
       "    }\n",
       "</style>\n",
       "<table border=\"1\" class=\"dataframe\">\n",
       "  <thead>\n",
       "    <tr style=\"text-align: right;\">\n",
       "      <th></th>\n",
       "      <th>INDUSTRY</th>\n",
       "      <th>bollywood</th>\n",
       "      <th>hollywood</th>\n",
       "      <th>tollywood</th>\n",
       "    </tr>\n",
       "  </thead>\n",
       "  <tbody>\n",
       "    <tr>\n",
       "      <th rowspan=\"8\" valign=\"top\">DURATION</th>\n",
       "      <th>count</th>\n",
       "      <td>6.000000</td>\n",
       "      <td>8.000000</td>\n",
       "      <td>1.0</td>\n",
       "    </tr>\n",
       "    <tr>\n",
       "      <th>mean</th>\n",
       "      <td>151.666667</td>\n",
       "      <td>152.500000</td>\n",
       "      <td>170.0</td>\n",
       "    </tr>\n",
       "    <tr>\n",
       "      <th>std</th>\n",
       "      <td>14.719601</td>\n",
       "      <td>28.157719</td>\n",
       "      <td>NaN</td>\n",
       "    </tr>\n",
       "    <tr>\n",
       "      <th>min</th>\n",
       "      <td>140.000000</td>\n",
       "      <td>120.000000</td>\n",
       "      <td>170.0</td>\n",
       "    </tr>\n",
       "    <tr>\n",
       "      <th>25%</th>\n",
       "      <td>142.500000</td>\n",
       "      <td>127.500000</td>\n",
       "      <td>170.0</td>\n",
       "    </tr>\n",
       "    <tr>\n",
       "      <th>50%</th>\n",
       "      <td>150.000000</td>\n",
       "      <td>150.000000</td>\n",
       "      <td>170.0</td>\n",
       "    </tr>\n",
       "    <tr>\n",
       "      <th>75%</th>\n",
       "      <td>150.000000</td>\n",
       "      <td>180.000000</td>\n",
       "      <td>170.0</td>\n",
       "    </tr>\n",
       "    <tr>\n",
       "      <th>max</th>\n",
       "      <td>180.000000</td>\n",
       "      <td>190.000000</td>\n",
       "      <td>170.0</td>\n",
       "    </tr>\n",
       "    <tr>\n",
       "      <th rowspan=\"8\" valign=\"top\">RATING</th>\n",
       "      <th>count</th>\n",
       "      <td>6.000000</td>\n",
       "      <td>8.000000</td>\n",
       "      <td>1.0</td>\n",
       "    </tr>\n",
       "    <tr>\n",
       "      <th>mean</th>\n",
       "      <td>7.583333</td>\n",
       "      <td>8.062500</td>\n",
       "      <td>9.5</td>\n",
       "    </tr>\n",
       "    <tr>\n",
       "      <th>std</th>\n",
       "      <td>1.685724</td>\n",
       "      <td>1.699527</td>\n",
       "      <td>NaN</td>\n",
       "    </tr>\n",
       "    <tr>\n",
       "      <th>min</th>\n",
       "      <td>5.000000</td>\n",
       "      <td>5.000000</td>\n",
       "      <td>9.5</td>\n",
       "    </tr>\n",
       "    <tr>\n",
       "      <th>25%</th>\n",
       "      <td>6.500000</td>\n",
       "      <td>7.000000</td>\n",
       "      <td>9.5</td>\n",
       "    </tr>\n",
       "    <tr>\n",
       "      <th>50%</th>\n",
       "      <td>8.250000</td>\n",
       "      <td>8.250000</td>\n",
       "      <td>9.5</td>\n",
       "    </tr>\n",
       "    <tr>\n",
       "      <th>75%</th>\n",
       "      <td>8.875000</td>\n",
       "      <td>9.250000</td>\n",
       "      <td>9.5</td>\n",
       "    </tr>\n",
       "    <tr>\n",
       "      <th>max</th>\n",
       "      <td>9.000000</td>\n",
       "      <td>10.000000</td>\n",
       "      <td>9.5</td>\n",
       "    </tr>\n",
       "  </tbody>\n",
       "</table>\n",
       "</div>"
      ],
      "text/plain": [
       "INDUSTRY         bollywood   hollywood  tollywood\n",
       "DURATION count    6.000000    8.000000        1.0\n",
       "         mean   151.666667  152.500000      170.0\n",
       "         std     14.719601   28.157719        NaN\n",
       "         min    140.000000  120.000000      170.0\n",
       "         25%    142.500000  127.500000      170.0\n",
       "         50%    150.000000  150.000000      170.0\n",
       "         75%    150.000000  180.000000      170.0\n",
       "         max    180.000000  190.000000      170.0\n",
       "RATING   count    6.000000    8.000000        1.0\n",
       "         mean     7.583333    8.062500        9.5\n",
       "         std      1.685724    1.699527        NaN\n",
       "         min      5.000000    5.000000        9.5\n",
       "         25%      6.500000    7.000000        9.5\n",
       "         50%      8.250000    8.250000        9.5\n",
       "         75%      8.875000    9.250000        9.5\n",
       "         max      9.000000   10.000000        9.5"
      ]
     },
     "execution_count": 90,
     "metadata": {},
     "output_type": "execute_result"
    }
   ],
   "source": [
    "movies.groupby('INDUSTRY').describe().T"
   ]
  },
  {
   "cell_type": "code",
   "execution_count": 93,
   "id": "0720971e-ece9-4766-918d-3a94bace3909",
   "metadata": {},
   "outputs": [
    {
     "data": {
      "text/html": [
       "<div>\n",
       "<style scoped>\n",
       "    .dataframe tbody tr th:only-of-type {\n",
       "        vertical-align: middle;\n",
       "    }\n",
       "\n",
       "    .dataframe tbody tr th {\n",
       "        vertical-align: top;\n",
       "    }\n",
       "\n",
       "    .dataframe thead tr th {\n",
       "        text-align: left;\n",
       "    }\n",
       "</style>\n",
       "<table border=\"1\" class=\"dataframe\">\n",
       "  <thead>\n",
       "    <tr>\n",
       "      <th></th>\n",
       "      <th>INDUSTRY</th>\n",
       "      <th colspan=\"4\" halign=\"left\">bollywood</th>\n",
       "      <th colspan=\"6\" halign=\"left\">hollywood</th>\n",
       "      <th>tollywood</th>\n",
       "    </tr>\n",
       "    <tr>\n",
       "      <th></th>\n",
       "      <th>GENRE</th>\n",
       "      <th>action</th>\n",
       "      <th>comedy</th>\n",
       "      <th>drama</th>\n",
       "      <th>romance</th>\n",
       "      <th>action</th>\n",
       "      <th>comedy</th>\n",
       "      <th>drama</th>\n",
       "      <th>mysterioushindi</th>\n",
       "      <th>romance</th>\n",
       "      <th>sci-fi</th>\n",
       "      <th>action</th>\n",
       "    </tr>\n",
       "  </thead>\n",
       "  <tbody>\n",
       "    <tr>\n",
       "      <th rowspan=\"8\" valign=\"top\">DURATION</th>\n",
       "      <th>count</th>\n",
       "      <td>2.000000</td>\n",
       "      <td>2.000000</td>\n",
       "      <td>1.0</td>\n",
       "      <td>1.0</td>\n",
       "      <td>1.0</td>\n",
       "      <td>1.0</td>\n",
       "      <td>1.0</td>\n",
       "      <td>1.0</td>\n",
       "      <td>1.0</td>\n",
       "      <td>3.000000</td>\n",
       "      <td>1.0</td>\n",
       "    </tr>\n",
       "    <tr>\n",
       "      <th>mean</th>\n",
       "      <td>160.000000</td>\n",
       "      <td>145.000000</td>\n",
       "      <td>150.0</td>\n",
       "      <td>150.0</td>\n",
       "      <td>120.0</td>\n",
       "      <td>120.0</td>\n",
       "      <td>180.0</td>\n",
       "      <td>180.0</td>\n",
       "      <td>150.0</td>\n",
       "      <td>156.666667</td>\n",
       "      <td>170.0</td>\n",
       "    </tr>\n",
       "    <tr>\n",
       "      <th>std</th>\n",
       "      <td>28.284271</td>\n",
       "      <td>7.071068</td>\n",
       "      <td>NaN</td>\n",
       "      <td>NaN</td>\n",
       "      <td>NaN</td>\n",
       "      <td>NaN</td>\n",
       "      <td>NaN</td>\n",
       "      <td>NaN</td>\n",
       "      <td>NaN</td>\n",
       "      <td>30.550505</td>\n",
       "      <td>NaN</td>\n",
       "    </tr>\n",
       "    <tr>\n",
       "      <th>min</th>\n",
       "      <td>140.000000</td>\n",
       "      <td>140.000000</td>\n",
       "      <td>150.0</td>\n",
       "      <td>150.0</td>\n",
       "      <td>120.0</td>\n",
       "      <td>120.0</td>\n",
       "      <td>180.0</td>\n",
       "      <td>180.0</td>\n",
       "      <td>150.0</td>\n",
       "      <td>130.000000</td>\n",
       "      <td>170.0</td>\n",
       "    </tr>\n",
       "    <tr>\n",
       "      <th>25%</th>\n",
       "      <td>150.000000</td>\n",
       "      <td>142.500000</td>\n",
       "      <td>150.0</td>\n",
       "      <td>150.0</td>\n",
       "      <td>120.0</td>\n",
       "      <td>120.0</td>\n",
       "      <td>180.0</td>\n",
       "      <td>180.0</td>\n",
       "      <td>150.0</td>\n",
       "      <td>140.000000</td>\n",
       "      <td>170.0</td>\n",
       "    </tr>\n",
       "    <tr>\n",
       "      <th>50%</th>\n",
       "      <td>160.000000</td>\n",
       "      <td>145.000000</td>\n",
       "      <td>150.0</td>\n",
       "      <td>150.0</td>\n",
       "      <td>120.0</td>\n",
       "      <td>120.0</td>\n",
       "      <td>180.0</td>\n",
       "      <td>180.0</td>\n",
       "      <td>150.0</td>\n",
       "      <td>150.000000</td>\n",
       "      <td>170.0</td>\n",
       "    </tr>\n",
       "    <tr>\n",
       "      <th>75%</th>\n",
       "      <td>170.000000</td>\n",
       "      <td>147.500000</td>\n",
       "      <td>150.0</td>\n",
       "      <td>150.0</td>\n",
       "      <td>120.0</td>\n",
       "      <td>120.0</td>\n",
       "      <td>180.0</td>\n",
       "      <td>180.0</td>\n",
       "      <td>150.0</td>\n",
       "      <td>170.000000</td>\n",
       "      <td>170.0</td>\n",
       "    </tr>\n",
       "    <tr>\n",
       "      <th>max</th>\n",
       "      <td>180.000000</td>\n",
       "      <td>150.000000</td>\n",
       "      <td>150.0</td>\n",
       "      <td>150.0</td>\n",
       "      <td>120.0</td>\n",
       "      <td>120.0</td>\n",
       "      <td>180.0</td>\n",
       "      <td>180.0</td>\n",
       "      <td>150.0</td>\n",
       "      <td>190.000000</td>\n",
       "      <td>170.0</td>\n",
       "    </tr>\n",
       "    <tr>\n",
       "      <th rowspan=\"8\" valign=\"top\">RATING</th>\n",
       "      <th>count</th>\n",
       "      <td>2.000000</td>\n",
       "      <td>2.000000</td>\n",
       "      <td>1.0</td>\n",
       "      <td>1.0</td>\n",
       "      <td>1.0</td>\n",
       "      <td>1.0</td>\n",
       "      <td>1.0</td>\n",
       "      <td>1.0</td>\n",
       "      <td>1.0</td>\n",
       "      <td>3.000000</td>\n",
       "      <td>1.0</td>\n",
       "    </tr>\n",
       "    <tr>\n",
       "      <th>mean</th>\n",
       "      <td>8.500000</td>\n",
       "      <td>7.500000</td>\n",
       "      <td>8.5</td>\n",
       "      <td>5.0</td>\n",
       "      <td>10.0</td>\n",
       "      <td>7.0</td>\n",
       "      <td>9.0</td>\n",
       "      <td>5.0</td>\n",
       "      <td>10.0</td>\n",
       "      <td>7.833333</td>\n",
       "      <td>9.5</td>\n",
       "    </tr>\n",
       "    <tr>\n",
       "      <th>std</th>\n",
       "      <td>0.707107</td>\n",
       "      <td>2.121320</td>\n",
       "      <td>NaN</td>\n",
       "      <td>NaN</td>\n",
       "      <td>NaN</td>\n",
       "      <td>NaN</td>\n",
       "      <td>NaN</td>\n",
       "      <td>NaN</td>\n",
       "      <td>NaN</td>\n",
       "      <td>0.763763</td>\n",
       "      <td>NaN</td>\n",
       "    </tr>\n",
       "    <tr>\n",
       "      <th>min</th>\n",
       "      <td>8.000000</td>\n",
       "      <td>6.000000</td>\n",
       "      <td>8.5</td>\n",
       "      <td>5.0</td>\n",
       "      <td>10.0</td>\n",
       "      <td>7.0</td>\n",
       "      <td>9.0</td>\n",
       "      <td>5.0</td>\n",
       "      <td>10.0</td>\n",
       "      <td>7.000000</td>\n",
       "      <td>9.5</td>\n",
       "    </tr>\n",
       "    <tr>\n",
       "      <th>25%</th>\n",
       "      <td>8.250000</td>\n",
       "      <td>6.750000</td>\n",
       "      <td>8.5</td>\n",
       "      <td>5.0</td>\n",
       "      <td>10.0</td>\n",
       "      <td>7.0</td>\n",
       "      <td>9.0</td>\n",
       "      <td>5.0</td>\n",
       "      <td>10.0</td>\n",
       "      <td>7.500000</td>\n",
       "      <td>9.5</td>\n",
       "    </tr>\n",
       "    <tr>\n",
       "      <th>50%</th>\n",
       "      <td>8.500000</td>\n",
       "      <td>7.500000</td>\n",
       "      <td>8.5</td>\n",
       "      <td>5.0</td>\n",
       "      <td>10.0</td>\n",
       "      <td>7.0</td>\n",
       "      <td>9.0</td>\n",
       "      <td>5.0</td>\n",
       "      <td>10.0</td>\n",
       "      <td>8.000000</td>\n",
       "      <td>9.5</td>\n",
       "    </tr>\n",
       "    <tr>\n",
       "      <th>75%</th>\n",
       "      <td>8.750000</td>\n",
       "      <td>8.250000</td>\n",
       "      <td>8.5</td>\n",
       "      <td>5.0</td>\n",
       "      <td>10.0</td>\n",
       "      <td>7.0</td>\n",
       "      <td>9.0</td>\n",
       "      <td>5.0</td>\n",
       "      <td>10.0</td>\n",
       "      <td>8.250000</td>\n",
       "      <td>9.5</td>\n",
       "    </tr>\n",
       "    <tr>\n",
       "      <th>max</th>\n",
       "      <td>9.000000</td>\n",
       "      <td>9.000000</td>\n",
       "      <td>8.5</td>\n",
       "      <td>5.0</td>\n",
       "      <td>10.0</td>\n",
       "      <td>7.0</td>\n",
       "      <td>9.0</td>\n",
       "      <td>5.0</td>\n",
       "      <td>10.0</td>\n",
       "      <td>8.500000</td>\n",
       "      <td>9.5</td>\n",
       "    </tr>\n",
       "  </tbody>\n",
       "</table>\n",
       "</div>"
      ],
      "text/plain": [
       "INDUSTRY         bollywood                            hollywood                \\\n",
       "GENRE               action      comedy  drama romance    action comedy  drama   \n",
       "DURATION count    2.000000    2.000000    1.0     1.0       1.0    1.0    1.0   \n",
       "         mean   160.000000  145.000000  150.0   150.0     120.0  120.0  180.0   \n",
       "         std     28.284271    7.071068    NaN     NaN       NaN    NaN    NaN   \n",
       "         min    140.000000  140.000000  150.0   150.0     120.0  120.0  180.0   \n",
       "         25%    150.000000  142.500000  150.0   150.0     120.0  120.0  180.0   \n",
       "         50%    160.000000  145.000000  150.0   150.0     120.0  120.0  180.0   \n",
       "         75%    170.000000  147.500000  150.0   150.0     120.0  120.0  180.0   \n",
       "         max    180.000000  150.000000  150.0   150.0     120.0  120.0  180.0   \n",
       "RATING   count    2.000000    2.000000    1.0     1.0       1.0    1.0    1.0   \n",
       "         mean     8.500000    7.500000    8.5     5.0      10.0    7.0    9.0   \n",
       "         std      0.707107    2.121320    NaN     NaN       NaN    NaN    NaN   \n",
       "         min      8.000000    6.000000    8.5     5.0      10.0    7.0    9.0   \n",
       "         25%      8.250000    6.750000    8.5     5.0      10.0    7.0    9.0   \n",
       "         50%      8.500000    7.500000    8.5     5.0      10.0    7.0    9.0   \n",
       "         75%      8.750000    8.250000    8.5     5.0      10.0    7.0    9.0   \n",
       "         max      9.000000    9.000000    8.5     5.0      10.0    7.0    9.0   \n",
       "\n",
       "INDUSTRY                                           tollywood  \n",
       "GENRE          mysterioushindi romance      sci-fi    action  \n",
       "DURATION count             1.0     1.0    3.000000       1.0  \n",
       "         mean            180.0   150.0  156.666667     170.0  \n",
       "         std               NaN     NaN   30.550505       NaN  \n",
       "         min             180.0   150.0  130.000000     170.0  \n",
       "         25%             180.0   150.0  140.000000     170.0  \n",
       "         50%             180.0   150.0  150.000000     170.0  \n",
       "         75%             180.0   150.0  170.000000     170.0  \n",
       "         max             180.0   150.0  190.000000     170.0  \n",
       "RATING   count             1.0     1.0    3.000000       1.0  \n",
       "         mean              5.0    10.0    7.833333       9.5  \n",
       "         std               NaN     NaN    0.763763       NaN  \n",
       "         min               5.0    10.0    7.000000       9.5  \n",
       "         25%               5.0    10.0    7.500000       9.5  \n",
       "         50%               5.0    10.0    8.000000       9.5  \n",
       "         75%               5.0    10.0    8.250000       9.5  \n",
       "         max               5.0    10.0    8.500000       9.5  "
      ]
     },
     "execution_count": 93,
     "metadata": {},
     "output_type": "execute_result"
    }
   ],
   "source": [
    "movies.groupby(['INDUSTRY','GENRE']).describe().T"
   ]
  },
  {
   "cell_type": "markdown",
   "id": "0ade8266-eeab-472e-a41b-6da4879ff758",
   "metadata": {},
   "source": [
    "# evrage rating of each industry"
   ]
  },
  {
   "cell_type": "code",
   "execution_count": 95,
   "id": "45308bff-04eb-40f3-a75a-bf040f21002d",
   "metadata": {},
   "outputs": [
    {
     "data": {
      "text/plain": [
       "INDUSTRY\n",
       "bollywood    7.583333\n",
       "hollywood    8.062500\n",
       "tollywood    9.500000\n",
       "Name: RATING, dtype: float64"
      ]
     },
     "execution_count": 95,
     "metadata": {},
     "output_type": "execute_result"
    }
   ],
   "source": [
    "movies.groupby('INDUSTRY')['RATING'].mean()"
   ]
  },
  {
   "cell_type": "markdown",
   "id": "9b8eb398-d3c6-46e4-918d-7a989c961620",
   "metadata": {},
   "source": [
    "# average reating of romance movies industries wise"
   ]
  },
  {
   "cell_type": "code",
   "execution_count": 99,
   "id": "9c4049e1-0536-4730-967d-cf7cd52137ae",
   "metadata": {},
   "outputs": [
    {
     "data": {
      "text/plain": [
       "INDUSTRY\n",
       "bollywood     5.0\n",
       "hollywood    10.0\n",
       "Name: RATING, dtype: float64"
      ]
     },
     "execution_count": 99,
     "metadata": {},
     "output_type": "execute_result"
    }
   ],
   "source": [
    "movies[movies['GENRE'].str.lower()=='romance'].groupby('INDUSTRY')['RATING'].mean()"
   ]
  },
  {
   "cell_type": "markdown",
   "id": "4c97c210-4882-4039-8c5f-8750fc194307",
   "metadata": {},
   "source": [
    "# all the english movies with their respective rating in decending order."
   ]
  },
  {
   "cell_type": "code",
   "execution_count": 100,
   "id": "44072808-4569-4055-88d7-2ae6d5ec3aa8",
   "metadata": {},
   "outputs": [
    {
     "data": {
      "text/html": [
       "<div>\n",
       "<style scoped>\n",
       "    .dataframe tbody tr th:only-of-type {\n",
       "        vertical-align: middle;\n",
       "    }\n",
       "\n",
       "    .dataframe tbody tr th {\n",
       "        vertical-align: top;\n",
       "    }\n",
       "\n",
       "    .dataframe thead th {\n",
       "        text-align: right;\n",
       "    }\n",
       "</style>\n",
       "<table border=\"1\" class=\"dataframe\">\n",
       "  <thead>\n",
       "    <tr style=\"text-align: right;\">\n",
       "      <th></th>\n",
       "      <th>NAME</th>\n",
       "      <th>RATING</th>\n",
       "    </tr>\n",
       "    <tr>\n",
       "      <th>I.D.</th>\n",
       "      <th></th>\n",
       "      <th></th>\n",
       "    </tr>\n",
       "  </thead>\n",
       "  <tbody>\n",
       "    <tr>\n",
       "      <th>5</th>\n",
       "      <td>Avengers the and game</td>\n",
       "      <td>9.0</td>\n",
       "    </tr>\n",
       "    <tr>\n",
       "      <th>6</th>\n",
       "      <td>tanent</td>\n",
       "      <td>8.5</td>\n",
       "    </tr>\n",
       "    <tr>\n",
       "      <th>8</th>\n",
       "      <td>intersteller</td>\n",
       "      <td>7.0</td>\n",
       "    </tr>\n",
       "    <tr>\n",
       "      <th>9</th>\n",
       "      <td>gravity</td>\n",
       "      <td>8.0</td>\n",
       "    </tr>\n",
       "    <tr>\n",
       "      <th>10</th>\n",
       "      <td>titanic</td>\n",
       "      <td>9.0</td>\n",
       "    </tr>\n",
       "    <tr>\n",
       "      <th>12</th>\n",
       "      <td>housefull</td>\n",
       "      <td>6.0</td>\n",
       "    </tr>\n",
       "  </tbody>\n",
       "</table>\n",
       "</div>"
      ],
      "text/plain": [
       "                       NAME  RATING\n",
       "I.D.                               \n",
       "5     Avengers the and game     9.0\n",
       "6                    tanent     8.5\n",
       "8              intersteller     7.0\n",
       "9                   gravity     8.0\n",
       "10                  titanic     9.0\n",
       "12                housefull     6.0"
      ]
     },
     "execution_count": 100,
     "metadata": {},
     "output_type": "execute_result"
    }
   ],
   "source": [
    "movies[movies['LANGUAGE'].str.lower()=='english'][['NAME','RATING']]"
   ]
  },
  {
   "cell_type": "code",
   "execution_count": 103,
   "id": "d9ebaa34-a00e-42b2-8c73-392d8c66afc6",
   "metadata": {},
   "outputs": [
    {
     "data": {
      "text/html": [
       "<div>\n",
       "<style scoped>\n",
       "    .dataframe tbody tr th:only-of-type {\n",
       "        vertical-align: middle;\n",
       "    }\n",
       "\n",
       "    .dataframe tbody tr th {\n",
       "        vertical-align: top;\n",
       "    }\n",
       "\n",
       "    .dataframe thead th {\n",
       "        text-align: right;\n",
       "    }\n",
       "</style>\n",
       "<table border=\"1\" class=\"dataframe\">\n",
       "  <thead>\n",
       "    <tr style=\"text-align: right;\">\n",
       "      <th></th>\n",
       "      <th>NAME</th>\n",
       "      <th>RATING</th>\n",
       "    </tr>\n",
       "    <tr>\n",
       "      <th>I.D.</th>\n",
       "      <th></th>\n",
       "      <th></th>\n",
       "    </tr>\n",
       "  </thead>\n",
       "  <tbody>\n",
       "    <tr>\n",
       "      <th>5</th>\n",
       "      <td>Avengers the and game</td>\n",
       "      <td>9.0</td>\n",
       "    </tr>\n",
       "    <tr>\n",
       "      <th>10</th>\n",
       "      <td>titanic</td>\n",
       "      <td>9.0</td>\n",
       "    </tr>\n",
       "    <tr>\n",
       "      <th>6</th>\n",
       "      <td>tanent</td>\n",
       "      <td>8.5</td>\n",
       "    </tr>\n",
       "    <tr>\n",
       "      <th>9</th>\n",
       "      <td>gravity</td>\n",
       "      <td>8.0</td>\n",
       "    </tr>\n",
       "    <tr>\n",
       "      <th>8</th>\n",
       "      <td>intersteller</td>\n",
       "      <td>7.0</td>\n",
       "    </tr>\n",
       "    <tr>\n",
       "      <th>12</th>\n",
       "      <td>housefull</td>\n",
       "      <td>6.0</td>\n",
       "    </tr>\n",
       "  </tbody>\n",
       "</table>\n",
       "</div>"
      ],
      "text/plain": [
       "                       NAME  RATING\n",
       "I.D.                               \n",
       "5     Avengers the and game     9.0\n",
       "10                  titanic     9.0\n",
       "6                    tanent     8.5\n",
       "9                   gravity     8.0\n",
       "8              intersteller     7.0\n",
       "12                housefull     6.0"
      ]
     },
     "execution_count": 103,
     "metadata": {},
     "output_type": "execute_result"
    }
   ],
   "source": [
    "movies[movies['LANGUAGE'].str.lower()=='english'][['NAME','RATING']].sort_values(by='RATING',ascending=False) "
   ]
  },
  {
   "cell_type": "code",
   "execution_count": null,
   "id": "dd16d56a-9046-4530-9ca1-79bd643fa15b",
   "metadata": {},
   "outputs": [],
   "source": []
  }
 ],
 "metadata": {
  "kernelspec": {
   "display_name": "Python 3 (ipykernel)",
   "language": "python",
   "name": "python3"
  },
  "language_info": {
   "codemirror_mode": {
    "name": "ipython",
    "version": 3
   },
   "file_extension": ".py",
   "mimetype": "text/x-python",
   "name": "python",
   "nbconvert_exporter": "python",
   "pygments_lexer": "ipython3",
   "version": "3.9.12"
  }
 },
 "nbformat": 4,
 "nbformat_minor": 5
}

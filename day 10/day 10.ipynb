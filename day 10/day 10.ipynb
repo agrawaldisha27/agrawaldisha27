{
 "cells": [
  {
   "cell_type": "code",
   "execution_count": null,
   "id": "ec1df1ef-890f-418c-91e9-88947c38c0ba",
   "metadata": {},
   "outputs": [],
   "source": [
    "import pandas as pd"
   ]
  },
  {
   "cell_type": "code",
   "execution_count": null,
   "id": "9fec24ee-a498-4974-b75b-2546f4a08c4f",
   "metadata": {},
   "outputs": [],
   "source": [
    "movies = pd.read_csv(r'my movies.csv')"
   ]
  },
  {
   "cell_type": "code",
   "execution_count": null,
   "id": "eb31fb7b-c44e-4e08-ae21-584960a101fb",
   "metadata": {},
   "outputs": [],
   "source": [
    "movies"
   ]
  },
  {
   "cell_type": "code",
   "execution_count": null,
   "id": "c04b0a4c-00fa-4e8c-a955-a631405c9ae6",
   "metadata": {},
   "outputs": [],
   "source": []
  },
  {
   "cell_type": "markdown",
   "id": "2882ebc7-82e1-4a28-9e00-7dcb888ee6e4",
   "metadata": {},
   "source": [
    "# longest movie"
   ]
  },
  {
   "cell_type": "code",
   "execution_count": null,
   "id": "2c4aadf4-d6bd-456a-aab9-37c53c7064bb",
   "metadata": {},
   "outputs": [],
   "source": [
    "movies['DURATION'].argmax()"
   ]
  },
  {
   "cell_type": "code",
   "execution_count": null,
   "id": "1211afd1-6c8e-4523-9edf-8fbf3bfb5466",
   "metadata": {},
   "outputs": [],
   "source": [
    "movies['NAME']"
   ]
  },
  {
   "cell_type": "code",
   "execution_count": null,
   "id": "98a3c107-3f9c-4309-ad36-cf1461fb2578",
   "metadata": {},
   "outputs": [],
   "source": [
    "movies['NAME'][movies['DURATION'].argmax()]"
   ]
  },
  {
   "cell_type": "markdown",
   "id": "22b1a12c-2a89-4fa5-bf1c-cb4aaba0f639",
   "metadata": {},
   "source": [
    "# no. of movies get 10 star rating"
   ]
  },
  {
   "cell_type": "code",
   "execution_count": null,
   "id": "85b2213b-c398-4318-ab35-2bd95b7959dc",
   "metadata": {},
   "outputs": [],
   "source": [
    "movies['RATING']==10"
   ]
  },
  {
   "cell_type": "code",
   "execution_count": null,
   "id": "f38e6392-3732-4071-82dd-1f43f2967d34",
   "metadata": {},
   "outputs": [],
   "source": [
    "movies['NAME'][movies['RATING']==10]"
   ]
  },
  {
   "cell_type": "code",
   "execution_count": null,
   "id": "d33d826f-7287-45eb-8745-cfa4a4a9d553",
   "metadata": {},
   "outputs": [],
   "source": [
    "movies['NAME'][movies['RATING']==10].values[0:2]"
   ]
  },
  {
   "cell_type": "code",
   "execution_count": null,
   "id": "1cf0ec27-aec9-4983-a3e8-de3a6ee70981",
   "metadata": {},
   "outputs": [],
   "source": [
    "## sum(movies['RATING']==10)"
   ]
  },
  {
   "cell_type": "markdown",
   "id": "21f4ae25-852c-483a-b0a7-5dbc9c4fbd51",
   "metadata": {},
   "source": [
    "# no. of industries"
   ]
  },
  {
   "cell_type": "code",
   "execution_count": null,
   "id": "0d8088fb-4974-44fa-9af9-b020cca6d3ec",
   "metadata": {},
   "outputs": [],
   "source": [
    "movies['INDUSTRY'].value_counts()"
   ]
  },
  {
   "cell_type": "code",
   "execution_count": null,
   "id": "178f910b-e940-4268-b235-b1fdc86bdbeb",
   "metadata": {},
   "outputs": [],
   "source": [
    "movies['INDUSTRY'].value_counts().count()"
   ]
  },
  {
   "cell_type": "code",
   "execution_count": null,
   "id": "20f3773f-f352-44a5-b628-e59a86ded282",
   "metadata": {},
   "outputs": [],
   "source": [
    "len(movies['INDUSTRY'].value_counts())"
   ]
  },
  {
   "cell_type": "markdown",
   "id": "bd36e586-81b9-4502-ba14-ab9615a6e3e0",
   "metadata": {},
   "source": [
    "# least liked comedy movie "
   ]
  },
  {
   "cell_type": "code",
   "execution_count": null,
   "id": "c1afb9c0-128a-44e3-b5ab-8c6a9f9cad80",
   "metadata": {},
   "outputs": [],
   "source": [
    "movies['RATING'][movies['GENRE']=='comedy'].idxmin()"
   ]
  },
  {
   "cell_type": "code",
   "execution_count": null,
   "id": "3fe0b8b7-cc56-419a-967d-b480ae4bdfda",
   "metadata": {},
   "outputs": [],
   "source": [
    "movies['NAME'][movies['RATING'][movies['GENRE']=='comedy'].idxmin()]"
   ]
  },
  {
   "cell_type": "code",
   "execution_count": null,
   "id": "d0189062-ea68-46e2-be94-de182f7ba587",
   "metadata": {},
   "outputs": [],
   "source": [
    "movies['NAME'][movies['RATING'][movies['GENRE']=='comedy'].min()]"
   ]
  },
  {
   "cell_type": "code",
   "execution_count": null,
   "id": "4b84bf17-b6c8-476b-9d32-8b9917b168c3",
   "metadata": {},
   "outputs": [],
   "source": [
    "[movies['RATING'][movies['GENRE']=='comedy'].min()]"
   ]
  },
  {
   "cell_type": "code",
   "execution_count": null,
   "id": "109ae863-aebb-42ee-b4a4-2b21d8f1fea9",
   "metadata": {},
   "outputs": [],
   "source": [
    "movies.columns"
   ]
  },
  {
   "cell_type": "markdown",
   "id": "3bf6e8f8-a5bd-4eb5-a780-af153c4885bf",
   "metadata": {},
   "source": [
    "# longest english movie"
   ]
  },
  {
   "cell_type": "code",
   "execution_count": null,
   "id": "6e7da95d-b318-41e7-8509-cd31d4fe2e23",
   "metadata": {},
   "outputs": [],
   "source": [
    "movies['NAME'][movies[movies['LANGUAGE']=='english']['DURATION'].idxmax()]"
   ]
  },
  {
   "cell_type": "markdown",
   "id": "aaecb791-b8ce-44a8-ad33-a42fd3e09a0d",
   "metadata": {},
   "source": [
    "# gener of intersteller"
   ]
  },
  {
   "cell_type": "code",
   "execution_count": null,
   "id": "eb6993b2-182a-42dc-904c-2641f0d67df7",
   "metadata": {},
   "outputs": [],
   "source": [
    "movies['GENRE'][movies['NAME']=='intersteller']"
   ]
  },
  {
   "cell_type": "markdown",
   "id": "26b14b0e-d711-4106-bdbb-bb2feb2be1b1",
   "metadata": {},
   "source": [
    ">this outcome is series type if we want a string "
   ]
  },
  {
   "cell_type": "code",
   "execution_count": null,
   "id": "190973ec-76aa-49f2-a15f-9f1015147200",
   "metadata": {},
   "outputs": [],
   "source": [
    "movies['GENRE'][movies['NAME']=='intersteller'].values[0]"
   ]
  },
  {
   "cell_type": "markdown",
   "id": "25cc8197-1226-4a66-b06d-20a95dc5e54e",
   "metadata": {},
   "source": [
    "# ["
   ]
  },
  {
   "cell_type": "code",
   "execution_count": null,
   "id": "75a92f9e-daf5-4f1a-9dec-c606464c4e61",
   "metadata": {},
   "outputs": [],
   "source": [
    "movies['NAME'].str.lower()"
   ]
  },
  {
   "cell_type": "code",
   "execution_count": null,
   "id": "8e25bdc6-0974-4651-b44a-b37196f9d00c",
   "metadata": {},
   "outputs": [],
   "source": [
    "movies['GENRE'][movies['NAME'].str.lower()=='iNterSteller'.lower()].values[0]"
   ]
  },
  {
   "cell_type": "code",
   "execution_count": null,
   "id": "ed6fdbe1-1f3c-4562-a02f-8f1834da9300",
   "metadata": {},
   "outputs": [],
   "source": [
    "names=movies['NAME']"
   ]
  },
  {
   "cell_type": "code",
   "execution_count": null,
   "id": "fb9cc512-5546-4013-be03-486addf8fda6",
   "metadata": {},
   "outputs": [],
   "source": [
    "names"
   ]
  },
  {
   "cell_type": "code",
   "execution_count": null,
   "id": "80de044f-b037-4c9c-a164-df74b39aa4f3",
   "metadata": {},
   "outputs": [],
   "source": [
    "names.to_list()"
   ]
  },
  {
   "cell_type": "code",
   "execution_count": null,
   "id": "8c19cdb8-3859-4707-b4cb-360d1c446904",
   "metadata": {},
   "outputs": [],
   "source": [
    "names.str.capitalize()"
   ]
  },
  {
   "cell_type": "code",
   "execution_count": null,
   "id": "823ca43c-e6ae-426c-b512-28a14a12cad5",
   "metadata": {},
   "outputs": [],
   "source": [
    "names.str.casefold()"
   ]
  },
  {
   "cell_type": "code",
   "execution_count": null,
   "id": "cb845fa6-8c23-4d0a-8774-70f97961442d",
   "metadata": {},
   "outputs": [],
   "source": [
    "names.str.find('e')"
   ]
  },
  {
   "cell_type": "code",
   "execution_count": null,
   "id": "5a159ac6-5b5b-46f1-9c6c-aa0987a0bc80",
   "metadata": {},
   "outputs": [],
   "source": [
    "names.str.count('g')"
   ]
  },
  {
   "cell_type": "code",
   "execution_count": null,
   "id": "ba45a5a6-9032-472e-ab77-bd91696a6b06",
   "metadata": {},
   "outputs": [],
   "source": [
    "names.str.get(2)"
   ]
  },
  {
   "cell_type": "code",
   "execution_count": null,
   "id": "3798ece3-7cab-418f-996f-0069fb4a303e",
   "metadata": {},
   "outputs": [],
   "source": [
    "names.str.get_dummies()"
   ]
  },
  {
   "cell_type": "code",
   "execution_count": null,
   "id": "071e1fa6-9c9d-45e9-9a59-d1c3a752c34b",
   "metadata": {},
   "outputs": [],
   "source": [
    "movies['GENRE'].str.get_dummies()"
   ]
  },
  {
   "cell_type": "code",
   "execution_count": null,
   "id": "cd6eb476-b13b-4d5c-a5bf-859d1dc8dad9",
   "metadata": {},
   "outputs": [],
   "source": [
    "names.str.index('a')"
   ]
  },
  {
   "cell_type": "code",
   "execution_count": null,
   "id": "baa8a69d-0420-44f1-b78f-8865e0d2f094",
   "metadata": {},
   "outputs": [],
   "source": [
    "names.str.split('e')"
   ]
  },
  {
   "cell_type": "code",
   "execution_count": null,
   "id": "bb7ad9c7-0dff-4530-81d6-82314a3b4e86",
   "metadata": {},
   "outputs": [],
   "source": [
    "names.str.split('e').str.join('--,--')"
   ]
  },
  {
   "cell_type": "markdown",
   "id": "2cfd4808-6f00-4d33-9945-67f790d0400b",
   "metadata": {},
   "source": [
    "#to remove spaces"
   ]
  },
  {
   "cell_type": "code",
   "execution_count": null,
   "id": "a905ce05-8903-4a49-ab15-ca41e2bfba54",
   "metadata": {},
   "outputs": [],
   "source": [
    "names.str.strip()"
   ]
  },
  {
   "cell_type": "markdown",
   "id": "a22c6e96-c531-45b6-a76d-fc2d5c14f84e",
   "metadata": {},
   "source": [
    "# ]"
   ]
  },
  {
   "cell_type": "markdown",
   "id": "2361b154-0a16-4dbc-9a9d-601b32b81f93",
   "metadata": {},
   "source": [
    "# Average of each genre"
   ]
  },
  {
   "cell_type": "code",
   "execution_count": null,
   "id": "06d09f9f-5776-4a6a-84e9-b49c3325dd29",
   "metadata": {},
   "outputs": [],
   "source": [
    "movies['GENRE'].unique()"
   ]
  },
  {
   "cell_type": "code",
   "execution_count": null,
   "id": "a589e842-9c8c-4b21-afd7-791799aa018b",
   "metadata": {},
   "outputs": [],
   "source": [
    "movies['GENRE'].nunique()"
   ]
  },
  {
   "cell_type": "code",
   "execution_count": null,
   "id": "8cac6910-67ea-43f8-9d20-8a6e1f78b158",
   "metadata": {},
   "outputs": [],
   "source": [
    "for genre in movies['GENRE'].unique():\n",
    "    print(genre, movies[movies['GENRE']==genre]['DURATION'].mean())"
   ]
  },
  {
   "cell_type": "code",
   "execution_count": null,
   "id": "8421f576-42e9-4cc2-affd-264c0ab7cd2a",
   "metadata": {},
   "outputs": [],
   "source": [
    "movies.groupby('GENRE')['DURATION'].mean()"
   ]
  },
  {
   "cell_type": "code",
   "execution_count": null,
   "id": "275d5053-abbb-4fa1-a19e-7a5bf861cbbc",
   "metadata": {},
   "outputs": [],
   "source": [
    "movies.groupby(['GENRE','INDUSTRY'])['DURATION'].mean()"
   ]
  },
  {
   "cell_type": "code",
   "execution_count": null,
   "id": "576e56de-ab0f-42d5-87db-8848e24211ff",
   "metadata": {},
   "outputs": [],
   "source": [
    "movies.groupby(['INDUSTRY','GENRE'])['DURATION'].mean()"
   ]
  },
  {
   "cell_type": "code",
   "execution_count": null,
   "id": "f9f05177-63cf-41e8-b38d-f997a71855ec",
   "metadata": {},
   "outputs": [],
   "source": [
    "movies.describe()"
   ]
  },
  {
   "cell_type": "code",
   "execution_count": null,
   "id": "9447b37c-fd1b-4060-8127-7ae0df5ecd9c",
   "metadata": {},
   "outputs": [],
   "source": [
    "# movies.drop(['I.D.'], axis=1, inplace=True)"
   ]
  },
  {
   "cell_type": "code",
   "execution_count": null,
   "id": "cc234603-ca0f-4acc-ace6-59e8828bed70",
   "metadata": {},
   "outputs": [],
   "source": [
    "movies=pd.read_csv(r'my movies.csv',index_col=0)"
   ]
  },
  {
   "cell_type": "code",
   "execution_count": null,
   "id": "4b83f565-e1c1-4df1-91fa-a977bead0b1d",
   "metadata": {},
   "outputs": [],
   "source": [
    "movies"
   ]
  },
  {
   "cell_type": "code",
   "execution_count": null,
   "id": "6401a3e3-150e-4659-bf63-448a701b995c",
   "metadata": {},
   "outputs": [],
   "source": [
    "movies.describe(include='all')"
   ]
  },
  {
   "cell_type": "code",
   "execution_count": null,
   "id": "56d66397-d65c-42e2-9d9a-2bb18f6d6eb4",
   "metadata": {},
   "outputs": [],
   "source": [
    "movies.groupby('INDUSTRY').describe().T"
   ]
  },
  {
   "cell_type": "code",
   "execution_count": null,
   "id": "0720971e-ece9-4766-918d-3a94bace3909",
   "metadata": {},
   "outputs": [],
   "source": [
    "movies.groupby(['INDUSTRY','GENRE']).describe().T"
   ]
  },
  {
   "cell_type": "markdown",
   "id": "0ade8266-eeab-472e-a41b-6da4879ff758",
   "metadata": {},
   "source": [
    "# evrage rating of each industry"
   ]
  },
  {
   "cell_type": "code",
   "execution_count": null,
   "id": "45308bff-04eb-40f3-a75a-bf040f21002d",
   "metadata": {},
   "outputs": [],
   "source": [
    "movies.groupby('INDUSTRY')['RATING'].mean()"
   ]
  },
  {
   "cell_type": "markdown",
   "id": "9b8eb398-d3c6-46e4-918d-7a989c961620",
   "metadata": {},
   "source": [
    "# average reating of romance movies industries wise"
   ]
  },
  {
   "cell_type": "code",
   "execution_count": 35,
   "id": "9c4049e1-0536-4730-967d-cf7cd52137ae",
   "metadata": {},
   "outputs": [
    {
     "data": {
      "text/plain": [
       "INDUSTRY\n",
       "bollywood     5.0\n",
       "hollywood    10.0\n",
       "Name: RATING, dtype: float64"
      ]
     },
     "execution_count": 35,
     "metadata": {},
     "output_type": "execute_result"
    }
   ],
   "source": [
    "movies[movies['GENRE'].str.lower()=='romance'].groupby('INDUSTRY')['RATING'].mean()"
   ]
  },
  {
   "cell_type": "markdown",
   "id": "4c97c210-4882-4039-8c5f-8750fc194307",
   "metadata": {},
   "source": [
    "# all the english movies with their respective rating in decending order."
   ]
  },
  {
   "cell_type": "code",
   "execution_count": 36,
   "id": "44072808-4569-4055-88d7-2ae6d5ec3aa8",
   "metadata": {},
   "outputs": [
    {
     "data": {
      "text/html": [
       "<div>\n",
       "<style scoped>\n",
       "    .dataframe tbody tr th:only-of-type {\n",
       "        vertical-align: middle;\n",
       "    }\n",
       "\n",
       "    .dataframe tbody tr th {\n",
       "        vertical-align: top;\n",
       "    }\n",
       "\n",
       "    .dataframe thead th {\n",
       "        text-align: right;\n",
       "    }\n",
       "</style>\n",
       "<table border=\"1\" class=\"dataframe\">\n",
       "  <thead>\n",
       "    <tr style=\"text-align: right;\">\n",
       "      <th></th>\n",
       "      <th>NAME</th>\n",
       "      <th>RATING</th>\n",
       "    </tr>\n",
       "  </thead>\n",
       "  <tbody>\n",
       "    <tr>\n",
       "      <th>4</th>\n",
       "      <td>Avengers the and game</td>\n",
       "      <td>9.0</td>\n",
       "    </tr>\n",
       "    <tr>\n",
       "      <th>5</th>\n",
       "      <td>tanent</td>\n",
       "      <td>8.5</td>\n",
       "    </tr>\n",
       "    <tr>\n",
       "      <th>7</th>\n",
       "      <td>intersteller</td>\n",
       "      <td>7.0</td>\n",
       "    </tr>\n",
       "    <tr>\n",
       "      <th>8</th>\n",
       "      <td>gravity</td>\n",
       "      <td>8.0</td>\n",
       "    </tr>\n",
       "    <tr>\n",
       "      <th>9</th>\n",
       "      <td>titanic</td>\n",
       "      <td>9.0</td>\n",
       "    </tr>\n",
       "    <tr>\n",
       "      <th>11</th>\n",
       "      <td>housefull</td>\n",
       "      <td>6.0</td>\n",
       "    </tr>\n",
       "  </tbody>\n",
       "</table>\n",
       "</div>"
      ],
      "text/plain": [
       "                     NAME  RATING\n",
       "4   Avengers the and game     9.0\n",
       "5                  tanent     8.5\n",
       "7            intersteller     7.0\n",
       "8                 gravity     8.0\n",
       "9                 titanic     9.0\n",
       "11              housefull     6.0"
      ]
     },
     "execution_count": 36,
     "metadata": {},
     "output_type": "execute_result"
    }
   ],
   "source": [
    "movies[movies['LANGUAGE'].str.lower()=='english'][['NAME','RATING']]"
   ]
  },
  {
   "cell_type": "code",
   "execution_count": 38,
   "id": "d9ebaa34-a00e-42b2-8c73-392d8c66afc6",
   "metadata": {},
   "outputs": [
    {
     "data": {
      "text/html": [
       "<div>\n",
       "<style scoped>\n",
       "    .dataframe tbody tr th:only-of-type {\n",
       "        vertical-align: middle;\n",
       "    }\n",
       "\n",
       "    .dataframe tbody tr th {\n",
       "        vertical-align: top;\n",
       "    }\n",
       "\n",
       "    .dataframe thead th {\n",
       "        text-align: right;\n",
       "    }\n",
       "</style>\n",
       "<table border=\"1\" class=\"dataframe\">\n",
       "  <thead>\n",
       "    <tr style=\"text-align: right;\">\n",
       "      <th></th>\n",
       "      <th>NAME</th>\n",
       "      <th>RATING</th>\n",
       "    </tr>\n",
       "  </thead>\n",
       "  <tbody>\n",
       "    <tr>\n",
       "      <th>4</th>\n",
       "      <td>Avengers the and game</td>\n",
       "      <td>9.0</td>\n",
       "    </tr>\n",
       "    <tr>\n",
       "      <th>9</th>\n",
       "      <td>titanic</td>\n",
       "      <td>9.0</td>\n",
       "    </tr>\n",
       "    <tr>\n",
       "      <th>5</th>\n",
       "      <td>tanent</td>\n",
       "      <td>8.5</td>\n",
       "    </tr>\n",
       "    <tr>\n",
       "      <th>8</th>\n",
       "      <td>gravity</td>\n",
       "      <td>8.0</td>\n",
       "    </tr>\n",
       "    <tr>\n",
       "      <th>7</th>\n",
       "      <td>intersteller</td>\n",
       "      <td>7.0</td>\n",
       "    </tr>\n",
       "    <tr>\n",
       "      <th>11</th>\n",
       "      <td>housefull</td>\n",
       "      <td>6.0</td>\n",
       "    </tr>\n",
       "  </tbody>\n",
       "</table>\n",
       "</div>"
      ],
      "text/plain": [
       "                     NAME  RATING\n",
       "4   Avengers the and game     9.0\n",
       "9                 titanic     9.0\n",
       "5                  tanent     8.5\n",
       "8                 gravity     8.0\n",
       "7            intersteller     7.0\n",
       "11              housefull     6.0"
      ]
     },
     "execution_count": 38,
     "metadata": {},
     "output_type": "execute_result"
    }
   ],
   "source": [
    "movies[movies['LANGUAGE'].str.lower()=='english'][['NAME','RATING']].sort_values(by='RATING',ascending=False) "
   ]
  },
  {
   "cell_type": "markdown",
   "id": "926587d8-00d2-47ea-9101-9279a1375ae8",
   "metadata": {},
   "source": [
    "1. pivot table\n",
    "2. panda concat\n",
    "3. pandas merge\n",
    "4. pandas joint"
   ]
  },
  {
   "cell_type": "code",
   "execution_count": 40,
   "id": "5eb2d264-e650-4dd3-adcb-eb6041d8a240",
   "metadata": {},
   "outputs": [],
   "source": [
    "data = {'country':['india','china','usa','japan','india','usa'],\n",
    "       'year':['2010','2010','2010','2015','2015','2015'],\n",
    "       'continent':['asia','asia','na','asia','asia','na'],\n",
    "       'values':[20,30,40,20,30,10]}"
   ]
  },
  {
   "cell_type": "code",
   "execution_count": 41,
   "id": "98a3cec7-e892-4159-a08b-2aba374ab9bd",
   "metadata": {},
   "outputs": [],
   "source": [
    "df=pd.DataFrame(data)"
   ]
  },
  {
   "cell_type": "code",
   "execution_count": 42,
   "id": "45085451-2688-42c6-a288-c64aa151e582",
   "metadata": {},
   "outputs": [
    {
     "data": {
      "text/html": [
       "<div>\n",
       "<style scoped>\n",
       "    .dataframe tbody tr th:only-of-type {\n",
       "        vertical-align: middle;\n",
       "    }\n",
       "\n",
       "    .dataframe tbody tr th {\n",
       "        vertical-align: top;\n",
       "    }\n",
       "\n",
       "    .dataframe thead th {\n",
       "        text-align: right;\n",
       "    }\n",
       "</style>\n",
       "<table border=\"1\" class=\"dataframe\">\n",
       "  <thead>\n",
       "    <tr style=\"text-align: right;\">\n",
       "      <th></th>\n",
       "      <th>country</th>\n",
       "      <th>year</th>\n",
       "      <th>continent</th>\n",
       "      <th>values</th>\n",
       "    </tr>\n",
       "  </thead>\n",
       "  <tbody>\n",
       "    <tr>\n",
       "      <th>0</th>\n",
       "      <td>india</td>\n",
       "      <td>2010</td>\n",
       "      <td>asia</td>\n",
       "      <td>20</td>\n",
       "    </tr>\n",
       "    <tr>\n",
       "      <th>1</th>\n",
       "      <td>china</td>\n",
       "      <td>2010</td>\n",
       "      <td>asia</td>\n",
       "      <td>30</td>\n",
       "    </tr>\n",
       "    <tr>\n",
       "      <th>2</th>\n",
       "      <td>usa</td>\n",
       "      <td>2010</td>\n",
       "      <td>na</td>\n",
       "      <td>40</td>\n",
       "    </tr>\n",
       "    <tr>\n",
       "      <th>3</th>\n",
       "      <td>japan</td>\n",
       "      <td>2015</td>\n",
       "      <td>asia</td>\n",
       "      <td>20</td>\n",
       "    </tr>\n",
       "    <tr>\n",
       "      <th>4</th>\n",
       "      <td>india</td>\n",
       "      <td>2015</td>\n",
       "      <td>asia</td>\n",
       "      <td>30</td>\n",
       "    </tr>\n",
       "    <tr>\n",
       "      <th>5</th>\n",
       "      <td>usa</td>\n",
       "      <td>2015</td>\n",
       "      <td>na</td>\n",
       "      <td>10</td>\n",
       "    </tr>\n",
       "  </tbody>\n",
       "</table>\n",
       "</div>"
      ],
      "text/plain": [
       "  country  year continent  values\n",
       "0   india  2010      asia      20\n",
       "1   china  2010      asia      30\n",
       "2     usa  2010        na      40\n",
       "3   japan  2015      asia      20\n",
       "4   india  2015      asia      30\n",
       "5     usa  2015        na      10"
      ]
     },
     "execution_count": 42,
     "metadata": {},
     "output_type": "execute_result"
    }
   ],
   "source": [
    "df"
   ]
  },
  {
   "cell_type": "code",
   "execution_count": 43,
   "id": "f4efde88-42a0-4230-8f39-99dfbe07fcaa",
   "metadata": {},
   "outputs": [
    {
     "data": {
      "text/html": [
       "<div>\n",
       "<style scoped>\n",
       "    .dataframe tbody tr th:only-of-type {\n",
       "        vertical-align: middle;\n",
       "    }\n",
       "\n",
       "    .dataframe tbody tr th {\n",
       "        vertical-align: top;\n",
       "    }\n",
       "\n",
       "    .dataframe thead th {\n",
       "        text-align: right;\n",
       "    }\n",
       "</style>\n",
       "<table border=\"1\" class=\"dataframe\">\n",
       "  <thead>\n",
       "    <tr style=\"text-align: right;\">\n",
       "      <th></th>\n",
       "      <th>values</th>\n",
       "    </tr>\n",
       "    <tr>\n",
       "      <th>year</th>\n",
       "      <th></th>\n",
       "    </tr>\n",
       "  </thead>\n",
       "  <tbody>\n",
       "    <tr>\n",
       "      <th>2010</th>\n",
       "      <td>90</td>\n",
       "    </tr>\n",
       "    <tr>\n",
       "      <th>2015</th>\n",
       "      <td>60</td>\n",
       "    </tr>\n",
       "  </tbody>\n",
       "</table>\n",
       "</div>"
      ],
      "text/plain": [
       "      values\n",
       "year        \n",
       "2010      90\n",
       "2015      60"
      ]
     },
     "execution_count": 43,
     "metadata": {},
     "output_type": "execute_result"
    }
   ],
   "source": [
    "pd.pivot_table(df,index = ['year'],aggfunc='sum')"
   ]
  },
  {
   "cell_type": "code",
   "execution_count": 44,
   "id": "69a03da8-63c8-4f67-9358-7a240da366dc",
   "metadata": {},
   "outputs": [
    {
     "data": {
      "text/html": [
       "<div>\n",
       "<style scoped>\n",
       "    .dataframe tbody tr th:only-of-type {\n",
       "        vertical-align: middle;\n",
       "    }\n",
       "\n",
       "    .dataframe tbody tr th {\n",
       "        vertical-align: top;\n",
       "    }\n",
       "\n",
       "    .dataframe thead th {\n",
       "        text-align: right;\n",
       "    }\n",
       "</style>\n",
       "<table border=\"1\" class=\"dataframe\">\n",
       "  <thead>\n",
       "    <tr style=\"text-align: right;\">\n",
       "      <th></th>\n",
       "      <th>values</th>\n",
       "    </tr>\n",
       "    <tr>\n",
       "      <th>continent</th>\n",
       "      <th></th>\n",
       "    </tr>\n",
       "  </thead>\n",
       "  <tbody>\n",
       "    <tr>\n",
       "      <th>asia</th>\n",
       "      <td>100</td>\n",
       "    </tr>\n",
       "    <tr>\n",
       "      <th>na</th>\n",
       "      <td>50</td>\n",
       "    </tr>\n",
       "  </tbody>\n",
       "</table>\n",
       "</div>"
      ],
      "text/plain": [
       "           values\n",
       "continent        \n",
       "asia          100\n",
       "na             50"
      ]
     },
     "execution_count": 44,
     "metadata": {},
     "output_type": "execute_result"
    }
   ],
   "source": [
    "pd.pivot_table(df,index = ['continent'],aggfunc='sum')"
   ]
  },
  {
   "cell_type": "markdown",
   "id": "e165ceba-f578-49b6-8b65-9440fa7ba90d",
   "metadata": {},
   "source": [
    "# Concat"
   ]
  },
  {
   "cell_type": "code",
   "execution_count": 50,
   "id": "81946fad-8fb8-431e-a689-efa217bcc34d",
   "metadata": {},
   "outputs": [],
   "source": [
    "people = {'id':[1,2,3,4],\n",
    "        'name':['as','er','qw','ty'],\n",
    "        'age':[34,12,22,20]}\n",
    "people1 = {'id':[12,23,34,45],\n",
    "        'name':['ase','ere','qwe','tye'],\n",
    "        'age':[45,13,24,57]}\n",
    "people2 = {'id':[14,25,36,47],\n",
    "        'name':['astt','ertt','qwtt','tyyy'],\n",
    "        'age':[14,12,12,10]}"
   ]
  },
  {
   "cell_type": "code",
   "execution_count": 53,
   "id": "5fe1e542-af3e-40e8-94c9-5ea491b96dac",
   "metadata": {},
   "outputs": [],
   "source": [
    "df1=pd.DataFrame(people)\n",
    "df2=pd.DataFrame(people1)\n",
    "df3=pd.DataFrame(people2)"
   ]
  },
  {
   "cell_type": "code",
   "execution_count": 54,
   "id": "7ab8d8fe-75e0-4de4-bb31-3638449ee518",
   "metadata": {},
   "outputs": [
    {
     "data": {
      "text/html": [
       "<div>\n",
       "<style scoped>\n",
       "    .dataframe tbody tr th:only-of-type {\n",
       "        vertical-align: middle;\n",
       "    }\n",
       "\n",
       "    .dataframe tbody tr th {\n",
       "        vertical-align: top;\n",
       "    }\n",
       "\n",
       "    .dataframe thead th {\n",
       "        text-align: right;\n",
       "    }\n",
       "</style>\n",
       "<table border=\"1\" class=\"dataframe\">\n",
       "  <thead>\n",
       "    <tr style=\"text-align: right;\">\n",
       "      <th></th>\n",
       "      <th>id</th>\n",
       "      <th>name</th>\n",
       "      <th>age</th>\n",
       "    </tr>\n",
       "  </thead>\n",
       "  <tbody>\n",
       "    <tr>\n",
       "      <th>0</th>\n",
       "      <td>1</td>\n",
       "      <td>as</td>\n",
       "      <td>34</td>\n",
       "    </tr>\n",
       "    <tr>\n",
       "      <th>1</th>\n",
       "      <td>2</td>\n",
       "      <td>er</td>\n",
       "      <td>12</td>\n",
       "    </tr>\n",
       "    <tr>\n",
       "      <th>2</th>\n",
       "      <td>3</td>\n",
       "      <td>qw</td>\n",
       "      <td>22</td>\n",
       "    </tr>\n",
       "    <tr>\n",
       "      <th>3</th>\n",
       "      <td>4</td>\n",
       "      <td>ty</td>\n",
       "      <td>20</td>\n",
       "    </tr>\n",
       "  </tbody>\n",
       "</table>\n",
       "</div>"
      ],
      "text/plain": [
       "   id name  age\n",
       "0   1   as   34\n",
       "1   2   er   12\n",
       "2   3   qw   22\n",
       "3   4   ty   20"
      ]
     },
     "execution_count": 54,
     "metadata": {},
     "output_type": "execute_result"
    }
   ],
   "source": [
    "df1"
   ]
  },
  {
   "cell_type": "code",
   "execution_count": 55,
   "id": "4e3649d4-62ac-4c15-8b0d-0e5ce169cee2",
   "metadata": {},
   "outputs": [
    {
     "data": {
      "text/html": [
       "<div>\n",
       "<style scoped>\n",
       "    .dataframe tbody tr th:only-of-type {\n",
       "        vertical-align: middle;\n",
       "    }\n",
       "\n",
       "    .dataframe tbody tr th {\n",
       "        vertical-align: top;\n",
       "    }\n",
       "\n",
       "    .dataframe thead th {\n",
       "        text-align: right;\n",
       "    }\n",
       "</style>\n",
       "<table border=\"1\" class=\"dataframe\">\n",
       "  <thead>\n",
       "    <tr style=\"text-align: right;\">\n",
       "      <th></th>\n",
       "      <th>id</th>\n",
       "      <th>name</th>\n",
       "      <th>age</th>\n",
       "    </tr>\n",
       "  </thead>\n",
       "  <tbody>\n",
       "    <tr>\n",
       "      <th>0</th>\n",
       "      <td>12</td>\n",
       "      <td>ase</td>\n",
       "      <td>45</td>\n",
       "    </tr>\n",
       "    <tr>\n",
       "      <th>1</th>\n",
       "      <td>23</td>\n",
       "      <td>ere</td>\n",
       "      <td>13</td>\n",
       "    </tr>\n",
       "    <tr>\n",
       "      <th>2</th>\n",
       "      <td>34</td>\n",
       "      <td>qwe</td>\n",
       "      <td>24</td>\n",
       "    </tr>\n",
       "    <tr>\n",
       "      <th>3</th>\n",
       "      <td>45</td>\n",
       "      <td>tye</td>\n",
       "      <td>57</td>\n",
       "    </tr>\n",
       "  </tbody>\n",
       "</table>\n",
       "</div>"
      ],
      "text/plain": [
       "   id name  age\n",
       "0  12  ase   45\n",
       "1  23  ere   13\n",
       "2  34  qwe   24\n",
       "3  45  tye   57"
      ]
     },
     "execution_count": 55,
     "metadata": {},
     "output_type": "execute_result"
    }
   ],
   "source": [
    "df2"
   ]
  },
  {
   "cell_type": "code",
   "execution_count": 56,
   "id": "78631b54-4575-43ea-92ed-b5943afc92b5",
   "metadata": {},
   "outputs": [
    {
     "data": {
      "text/html": [
       "<div>\n",
       "<style scoped>\n",
       "    .dataframe tbody tr th:only-of-type {\n",
       "        vertical-align: middle;\n",
       "    }\n",
       "\n",
       "    .dataframe tbody tr th {\n",
       "        vertical-align: top;\n",
       "    }\n",
       "\n",
       "    .dataframe thead th {\n",
       "        text-align: right;\n",
       "    }\n",
       "</style>\n",
       "<table border=\"1\" class=\"dataframe\">\n",
       "  <thead>\n",
       "    <tr style=\"text-align: right;\">\n",
       "      <th></th>\n",
       "      <th>id</th>\n",
       "      <th>name</th>\n",
       "      <th>age</th>\n",
       "    </tr>\n",
       "  </thead>\n",
       "  <tbody>\n",
       "    <tr>\n",
       "      <th>0</th>\n",
       "      <td>14</td>\n",
       "      <td>astt</td>\n",
       "      <td>14</td>\n",
       "    </tr>\n",
       "    <tr>\n",
       "      <th>1</th>\n",
       "      <td>25</td>\n",
       "      <td>ertt</td>\n",
       "      <td>12</td>\n",
       "    </tr>\n",
       "    <tr>\n",
       "      <th>2</th>\n",
       "      <td>36</td>\n",
       "      <td>qwtt</td>\n",
       "      <td>12</td>\n",
       "    </tr>\n",
       "    <tr>\n",
       "      <th>3</th>\n",
       "      <td>47</td>\n",
       "      <td>tyyy</td>\n",
       "      <td>10</td>\n",
       "    </tr>\n",
       "  </tbody>\n",
       "</table>\n",
       "</div>"
      ],
      "text/plain": [
       "   id  name  age\n",
       "0  14  astt   14\n",
       "1  25  ertt   12\n",
       "2  36  qwtt   12\n",
       "3  47  tyyy   10"
      ]
     },
     "execution_count": 56,
     "metadata": {},
     "output_type": "execute_result"
    }
   ],
   "source": [
    "df3"
   ]
  },
  {
   "cell_type": "code",
   "execution_count": 57,
   "id": "f0abfc05-aacc-4cb8-b65c-390dc97c190a",
   "metadata": {},
   "outputs": [
    {
     "data": {
      "text/html": [
       "<div>\n",
       "<style scoped>\n",
       "    .dataframe tbody tr th:only-of-type {\n",
       "        vertical-align: middle;\n",
       "    }\n",
       "\n",
       "    .dataframe tbody tr th {\n",
       "        vertical-align: top;\n",
       "    }\n",
       "\n",
       "    .dataframe thead th {\n",
       "        text-align: right;\n",
       "    }\n",
       "</style>\n",
       "<table border=\"1\" class=\"dataframe\">\n",
       "  <thead>\n",
       "    <tr style=\"text-align: right;\">\n",
       "      <th></th>\n",
       "      <th>id</th>\n",
       "      <th>name</th>\n",
       "      <th>age</th>\n",
       "    </tr>\n",
       "  </thead>\n",
       "  <tbody>\n",
       "    <tr>\n",
       "      <th>0</th>\n",
       "      <td>1</td>\n",
       "      <td>as</td>\n",
       "      <td>34</td>\n",
       "    </tr>\n",
       "    <tr>\n",
       "      <th>1</th>\n",
       "      <td>2</td>\n",
       "      <td>er</td>\n",
       "      <td>12</td>\n",
       "    </tr>\n",
       "    <tr>\n",
       "      <th>2</th>\n",
       "      <td>3</td>\n",
       "      <td>qw</td>\n",
       "      <td>22</td>\n",
       "    </tr>\n",
       "    <tr>\n",
       "      <th>3</th>\n",
       "      <td>4</td>\n",
       "      <td>ty</td>\n",
       "      <td>20</td>\n",
       "    </tr>\n",
       "    <tr>\n",
       "      <th>0</th>\n",
       "      <td>12</td>\n",
       "      <td>ase</td>\n",
       "      <td>45</td>\n",
       "    </tr>\n",
       "    <tr>\n",
       "      <th>1</th>\n",
       "      <td>23</td>\n",
       "      <td>ere</td>\n",
       "      <td>13</td>\n",
       "    </tr>\n",
       "    <tr>\n",
       "      <th>2</th>\n",
       "      <td>34</td>\n",
       "      <td>qwe</td>\n",
       "      <td>24</td>\n",
       "    </tr>\n",
       "    <tr>\n",
       "      <th>3</th>\n",
       "      <td>45</td>\n",
       "      <td>tye</td>\n",
       "      <td>57</td>\n",
       "    </tr>\n",
       "    <tr>\n",
       "      <th>0</th>\n",
       "      <td>14</td>\n",
       "      <td>astt</td>\n",
       "      <td>14</td>\n",
       "    </tr>\n",
       "    <tr>\n",
       "      <th>1</th>\n",
       "      <td>25</td>\n",
       "      <td>ertt</td>\n",
       "      <td>12</td>\n",
       "    </tr>\n",
       "    <tr>\n",
       "      <th>2</th>\n",
       "      <td>36</td>\n",
       "      <td>qwtt</td>\n",
       "      <td>12</td>\n",
       "    </tr>\n",
       "    <tr>\n",
       "      <th>3</th>\n",
       "      <td>47</td>\n",
       "      <td>tyyy</td>\n",
       "      <td>10</td>\n",
       "    </tr>\n",
       "  </tbody>\n",
       "</table>\n",
       "</div>"
      ],
      "text/plain": [
       "   id  name  age\n",
       "0   1    as   34\n",
       "1   2    er   12\n",
       "2   3    qw   22\n",
       "3   4    ty   20\n",
       "0  12   ase   45\n",
       "1  23   ere   13\n",
       "2  34   qwe   24\n",
       "3  45   tye   57\n",
       "0  14  astt   14\n",
       "1  25  ertt   12\n",
       "2  36  qwtt   12\n",
       "3  47  tyyy   10"
      ]
     },
     "execution_count": 57,
     "metadata": {},
     "output_type": "execute_result"
    }
   ],
   "source": [
    "pd.concat([df1,df2,df3])"
   ]
  },
  {
   "cell_type": "code",
   "execution_count": 58,
   "id": "d538e4f5-dc7a-4ecb-82aa-91c2e61dcffa",
   "metadata": {},
   "outputs": [
    {
     "data": {
      "text/html": [
       "<div>\n",
       "<style scoped>\n",
       "    .dataframe tbody tr th:only-of-type {\n",
       "        vertical-align: middle;\n",
       "    }\n",
       "\n",
       "    .dataframe tbody tr th {\n",
       "        vertical-align: top;\n",
       "    }\n",
       "\n",
       "    .dataframe thead th {\n",
       "        text-align: right;\n",
       "    }\n",
       "</style>\n",
       "<table border=\"1\" class=\"dataframe\">\n",
       "  <thead>\n",
       "    <tr style=\"text-align: right;\">\n",
       "      <th></th>\n",
       "      <th>id</th>\n",
       "      <th>name</th>\n",
       "      <th>age</th>\n",
       "    </tr>\n",
       "  </thead>\n",
       "  <tbody>\n",
       "    <tr>\n",
       "      <th>0</th>\n",
       "      <td>1</td>\n",
       "      <td>as</td>\n",
       "      <td>34</td>\n",
       "    </tr>\n",
       "    <tr>\n",
       "      <th>1</th>\n",
       "      <td>2</td>\n",
       "      <td>er</td>\n",
       "      <td>12</td>\n",
       "    </tr>\n",
       "    <tr>\n",
       "      <th>2</th>\n",
       "      <td>3</td>\n",
       "      <td>qw</td>\n",
       "      <td>22</td>\n",
       "    </tr>\n",
       "    <tr>\n",
       "      <th>3</th>\n",
       "      <td>4</td>\n",
       "      <td>ty</td>\n",
       "      <td>20</td>\n",
       "    </tr>\n",
       "    <tr>\n",
       "      <th>4</th>\n",
       "      <td>12</td>\n",
       "      <td>ase</td>\n",
       "      <td>45</td>\n",
       "    </tr>\n",
       "    <tr>\n",
       "      <th>5</th>\n",
       "      <td>23</td>\n",
       "      <td>ere</td>\n",
       "      <td>13</td>\n",
       "    </tr>\n",
       "    <tr>\n",
       "      <th>6</th>\n",
       "      <td>34</td>\n",
       "      <td>qwe</td>\n",
       "      <td>24</td>\n",
       "    </tr>\n",
       "    <tr>\n",
       "      <th>7</th>\n",
       "      <td>45</td>\n",
       "      <td>tye</td>\n",
       "      <td>57</td>\n",
       "    </tr>\n",
       "    <tr>\n",
       "      <th>8</th>\n",
       "      <td>14</td>\n",
       "      <td>astt</td>\n",
       "      <td>14</td>\n",
       "    </tr>\n",
       "    <tr>\n",
       "      <th>9</th>\n",
       "      <td>25</td>\n",
       "      <td>ertt</td>\n",
       "      <td>12</td>\n",
       "    </tr>\n",
       "    <tr>\n",
       "      <th>10</th>\n",
       "      <td>36</td>\n",
       "      <td>qwtt</td>\n",
       "      <td>12</td>\n",
       "    </tr>\n",
       "    <tr>\n",
       "      <th>11</th>\n",
       "      <td>47</td>\n",
       "      <td>tyyy</td>\n",
       "      <td>10</td>\n",
       "    </tr>\n",
       "  </tbody>\n",
       "</table>\n",
       "</div>"
      ],
      "text/plain": [
       "    id  name  age\n",
       "0    1    as   34\n",
       "1    2    er   12\n",
       "2    3    qw   22\n",
       "3    4    ty   20\n",
       "4   12   ase   45\n",
       "5   23   ere   13\n",
       "6   34   qwe   24\n",
       "7   45   tye   57\n",
       "8   14  astt   14\n",
       "9   25  ertt   12\n",
       "10  36  qwtt   12\n",
       "11  47  tyyy   10"
      ]
     },
     "execution_count": 58,
     "metadata": {},
     "output_type": "execute_result"
    }
   ],
   "source": [
    "pd.concat([df1,df2,df3],ignore_index=True)"
   ]
  },
  {
   "cell_type": "code",
   "execution_count": 60,
   "id": "8549e941-0495-4f80-a487-99d03c54adf1",
   "metadata": {},
   "outputs": [
    {
     "data": {
      "text/html": [
       "<div>\n",
       "<style scoped>\n",
       "    .dataframe tbody tr th:only-of-type {\n",
       "        vertical-align: middle;\n",
       "    }\n",
       "\n",
       "    .dataframe tbody tr th {\n",
       "        vertical-align: top;\n",
       "    }\n",
       "\n",
       "    .dataframe thead th {\n",
       "        text-align: right;\n",
       "    }\n",
       "</style>\n",
       "<table border=\"1\" class=\"dataframe\">\n",
       "  <thead>\n",
       "    <tr style=\"text-align: right;\">\n",
       "      <th></th>\n",
       "      <th>id</th>\n",
       "      <th>name</th>\n",
       "      <th>age</th>\n",
       "      <th>id</th>\n",
       "      <th>name</th>\n",
       "      <th>age</th>\n",
       "      <th>id</th>\n",
       "      <th>name</th>\n",
       "      <th>age</th>\n",
       "    </tr>\n",
       "  </thead>\n",
       "  <tbody>\n",
       "    <tr>\n",
       "      <th>0</th>\n",
       "      <td>1</td>\n",
       "      <td>as</td>\n",
       "      <td>34</td>\n",
       "      <td>12</td>\n",
       "      <td>ase</td>\n",
       "      <td>45</td>\n",
       "      <td>14</td>\n",
       "      <td>astt</td>\n",
       "      <td>14</td>\n",
       "    </tr>\n",
       "    <tr>\n",
       "      <th>1</th>\n",
       "      <td>2</td>\n",
       "      <td>er</td>\n",
       "      <td>12</td>\n",
       "      <td>23</td>\n",
       "      <td>ere</td>\n",
       "      <td>13</td>\n",
       "      <td>25</td>\n",
       "      <td>ertt</td>\n",
       "      <td>12</td>\n",
       "    </tr>\n",
       "    <tr>\n",
       "      <th>2</th>\n",
       "      <td>3</td>\n",
       "      <td>qw</td>\n",
       "      <td>22</td>\n",
       "      <td>34</td>\n",
       "      <td>qwe</td>\n",
       "      <td>24</td>\n",
       "      <td>36</td>\n",
       "      <td>qwtt</td>\n",
       "      <td>12</td>\n",
       "    </tr>\n",
       "    <tr>\n",
       "      <th>3</th>\n",
       "      <td>4</td>\n",
       "      <td>ty</td>\n",
       "      <td>20</td>\n",
       "      <td>45</td>\n",
       "      <td>tye</td>\n",
       "      <td>57</td>\n",
       "      <td>47</td>\n",
       "      <td>tyyy</td>\n",
       "      <td>10</td>\n",
       "    </tr>\n",
       "  </tbody>\n",
       "</table>\n",
       "</div>"
      ],
      "text/plain": [
       "   id name  age  id name  age  id  name  age\n",
       "0   1   as   34  12  ase   45  14  astt   14\n",
       "1   2   er   12  23  ere   13  25  ertt   12\n",
       "2   3   qw   22  34  qwe   24  36  qwtt   12\n",
       "3   4   ty   20  45  tye   57  47  tyyy   10"
      ]
     },
     "execution_count": 60,
     "metadata": {},
     "output_type": "execute_result"
    }
   ],
   "source": [
    "pd.concat([df1,df2,df3],axis=1)"
   ]
  },
  {
   "cell_type": "code",
   "execution_count": 67,
   "id": "66d89cd1-6026-46a8-84fe-c5bb76b21f2d",
   "metadata": {},
   "outputs": [],
   "source": [
    "people4 = {'id':[1,2,3,4],\n",
    "        'name':['as','er','qw','ty'],\n",
    "        'age':[34,12,22,20]}\n",
    "people5 = {'id':[1,2,3,4],\n",
    "        'name':['as','er','qw','ty'],\n",
    "        'sales':[45,13,24,57]}\n"
   ]
  },
  {
   "cell_type": "code",
   "execution_count": 68,
   "id": "a864a4a9-084b-4168-91ed-b8d295ca9de1",
   "metadata": {},
   "outputs": [],
   "source": [
    "df4=pd.DataFrame(people4)\n",
    "df5=pd.DataFrame(people5)"
   ]
  },
  {
   "cell_type": "code",
   "execution_count": 69,
   "id": "3b9cb19d-029f-4caf-ac7c-c4a0165ddcab",
   "metadata": {},
   "outputs": [
    {
     "data": {
      "text/html": [
       "<div>\n",
       "<style scoped>\n",
       "    .dataframe tbody tr th:only-of-type {\n",
       "        vertical-align: middle;\n",
       "    }\n",
       "\n",
       "    .dataframe tbody tr th {\n",
       "        vertical-align: top;\n",
       "    }\n",
       "\n",
       "    .dataframe thead th {\n",
       "        text-align: right;\n",
       "    }\n",
       "</style>\n",
       "<table border=\"1\" class=\"dataframe\">\n",
       "  <thead>\n",
       "    <tr style=\"text-align: right;\">\n",
       "      <th></th>\n",
       "      <th>id</th>\n",
       "      <th>name</th>\n",
       "      <th>age</th>\n",
       "      <th>sales</th>\n",
       "    </tr>\n",
       "  </thead>\n",
       "  <tbody>\n",
       "    <tr>\n",
       "      <th>0</th>\n",
       "      <td>1</td>\n",
       "      <td>as</td>\n",
       "      <td>34</td>\n",
       "      <td>45</td>\n",
       "    </tr>\n",
       "    <tr>\n",
       "      <th>1</th>\n",
       "      <td>2</td>\n",
       "      <td>er</td>\n",
       "      <td>12</td>\n",
       "      <td>13</td>\n",
       "    </tr>\n",
       "    <tr>\n",
       "      <th>2</th>\n",
       "      <td>3</td>\n",
       "      <td>qw</td>\n",
       "      <td>22</td>\n",
       "      <td>24</td>\n",
       "    </tr>\n",
       "    <tr>\n",
       "      <th>3</th>\n",
       "      <td>4</td>\n",
       "      <td>ty</td>\n",
       "      <td>20</td>\n",
       "      <td>57</td>\n",
       "    </tr>\n",
       "  </tbody>\n",
       "</table>\n",
       "</div>"
      ],
      "text/plain": [
       "   id name  age  sales\n",
       "0   1   as   34     45\n",
       "1   2   er   12     13\n",
       "2   3   qw   22     24\n",
       "3   4   ty   20     57"
      ]
     },
     "execution_count": 69,
     "metadata": {},
     "output_type": "execute_result"
    }
   ],
   "source": [
    "pd.merge(df4,df5,on=['id','name'])"
   ]
  },
  {
   "cell_type": "code",
   "execution_count": 74,
   "id": "0093861f-9585-40f7-b66a-aca21ffa151a",
   "metadata": {},
   "outputs": [],
   "source": [
    "people6 = {'id':[1,2,3,4],\n",
    "        'name':['as','er','qw','ty'],\n",
    "        'age':[34,12,22,20]}\n",
    "people7 = {\n",
    "        'name2':['a','e','q','t'],\n",
    "        'sales':[45555,13333,24444,57777]}\n"
   ]
  },
  {
   "cell_type": "code",
   "execution_count": 75,
   "id": "7ba36156-ef8d-409c-9d4a-2aa2c58decd3",
   "metadata": {},
   "outputs": [],
   "source": [
    "df6=pd.DataFrame(people6)\n",
    "df7=pd.DataFrame(people7)"
   ]
  },
  {
   "cell_type": "code",
   "execution_count": 76,
   "id": "6381daf0-f0be-428a-a700-277810ad7841",
   "metadata": {
    "jp-MarkdownHeadingCollapsed": true,
    "tags": []
   },
   "outputs": [
    {
     "data": {
      "text/html": [
       "<div>\n",
       "<style scoped>\n",
       "    .dataframe tbody tr th:only-of-type {\n",
       "        vertical-align: middle;\n",
       "    }\n",
       "\n",
       "    .dataframe tbody tr th {\n",
       "        vertical-align: top;\n",
       "    }\n",
       "\n",
       "    .dataframe thead th {\n",
       "        text-align: right;\n",
       "    }\n",
       "</style>\n",
       "<table border=\"1\" class=\"dataframe\">\n",
       "  <thead>\n",
       "    <tr style=\"text-align: right;\">\n",
       "      <th></th>\n",
       "      <th>id</th>\n",
       "      <th>name</th>\n",
       "      <th>age</th>\n",
       "      <th>name2</th>\n",
       "      <th>sales</th>\n",
       "    </tr>\n",
       "  </thead>\n",
       "  <tbody>\n",
       "    <tr>\n",
       "      <th>0</th>\n",
       "      <td>1</td>\n",
       "      <td>as</td>\n",
       "      <td>34</td>\n",
       "      <td>a</td>\n",
       "      <td>45555</td>\n",
       "    </tr>\n",
       "    <tr>\n",
       "      <th>1</th>\n",
       "      <td>2</td>\n",
       "      <td>er</td>\n",
       "      <td>12</td>\n",
       "      <td>e</td>\n",
       "      <td>13333</td>\n",
       "    </tr>\n",
       "    <tr>\n",
       "      <th>2</th>\n",
       "      <td>3</td>\n",
       "      <td>qw</td>\n",
       "      <td>22</td>\n",
       "      <td>q</td>\n",
       "      <td>24444</td>\n",
       "    </tr>\n",
       "    <tr>\n",
       "      <th>3</th>\n",
       "      <td>4</td>\n",
       "      <td>ty</td>\n",
       "      <td>20</td>\n",
       "      <td>t</td>\n",
       "      <td>57777</td>\n",
       "    </tr>\n",
       "  </tbody>\n",
       "</table>\n",
       "</div>"
      ],
      "text/plain": [
       "   id name  age name2  sales\n",
       "0   1   as   34     a  45555\n",
       "1   2   er   12     e  13333\n",
       "2   3   qw   22     q  24444\n",
       "3   4   ty   20     t  57777"
      ]
     },
     "execution_count": 76,
     "metadata": {},
     "output_type": "execute_result"
    }
   ],
   "source": [
    "df6.join(df7)"
   ]
  },
  {
   "cell_type": "code",
   "execution_count": 79,
   "id": "5261bdb6-ba7d-4602-bd06-a8d85f02518b",
   "metadata": {},
   "outputs": [
    {
     "name": "stderr",
     "output_type": "stream",
     "text": [
      "C:\\Users\\hp\\AppData\\Local\\Temp\\ipykernel_16552\\3018614469.py:1: ParserWarning: Falling back to the 'python' engine because the 'c' engine does not support regex separators (separators > 1 char and different from '\\s+' are interpreted as regex); you can avoid this warning by specifying engine='python'.\n",
      "  d1=pd.read_csv('file3.txt',sep='\\\\t')\n"
     ]
    },
    {
     "data": {
      "text/html": [
       "<div>\n",
       "<style scoped>\n",
       "    .dataframe tbody tr th:only-of-type {\n",
       "        vertical-align: middle;\n",
       "    }\n",
       "\n",
       "    .dataframe tbody tr th {\n",
       "        vertical-align: top;\n",
       "    }\n",
       "\n",
       "    .dataframe thead th {\n",
       "        text-align: right;\n",
       "    }\n",
       "</style>\n",
       "<table border=\"1\" class=\"dataframe\">\n",
       "  <thead>\n",
       "    <tr style=\"text-align: right;\">\n",
       "      <th></th>\n",
       "      <th>name;age;roll</th>\n",
       "    </tr>\n",
       "  </thead>\n",
       "  <tbody>\n",
       "    <tr>\n",
       "      <th>0</th>\n",
       "      <td>'akash';22;321</td>\n",
       "    </tr>\n",
       "    <tr>\n",
       "      <th>1</th>\n",
       "      <td>'riya';23;121</td>\n",
       "    </tr>\n",
       "    <tr>\n",
       "      <th>2</th>\n",
       "      <td>'shub';21;345</td>\n",
       "    </tr>\n",
       "    <tr>\n",
       "      <th>3</th>\n",
       "      <td>'rags';22;332</td>\n",
       "    </tr>\n",
       "    <tr>\n",
       "      <th>4</th>\n",
       "      <td>'disha';22;312</td>\n",
       "    </tr>\n",
       "  </tbody>\n",
       "</table>\n",
       "</div>"
      ],
      "text/plain": [
       "    name;age;roll\n",
       "0  'akash';22;321\n",
       "1   'riya';23;121\n",
       "2   'shub';21;345\n",
       "3   'rags';22;332\n",
       "4  'disha';22;312"
      ]
     },
     "execution_count": 79,
     "metadata": {},
     "output_type": "execute_result"
    }
   ],
   "source": [
    "d1=pd.read_csv('file3.txt',sep='\\\\t')\n",
    "d1"
   ]
  },
  {
   "cell_type": "markdown",
   "id": "21c7ad06-89c1-450f-bcfa-3bae2966ebea",
   "metadata": {},
   "source": [
    "# creating a json file"
   ]
  },
  {
   "cell_type": "code",
   "execution_count": 80,
   "id": "c5deac94-6e1c-4715-97fc-ecdee4cfe27a",
   "metadata": {},
   "outputs": [
    {
     "data": {
      "text/html": [
       "<div>\n",
       "<style scoped>\n",
       "    .dataframe tbody tr th:only-of-type {\n",
       "        vertical-align: middle;\n",
       "    }\n",
       "\n",
       "    .dataframe tbody tr th {\n",
       "        vertical-align: top;\n",
       "    }\n",
       "\n",
       "    .dataframe thead th {\n",
       "        text-align: right;\n",
       "    }\n",
       "</style>\n",
       "<table border=\"1\" class=\"dataframe\">\n",
       "  <thead>\n",
       "    <tr style=\"text-align: right;\">\n",
       "      <th></th>\n",
       "      <th>id</th>\n",
       "      <th>name</th>\n",
       "      <th>age</th>\n",
       "    </tr>\n",
       "  </thead>\n",
       "  <tbody>\n",
       "    <tr>\n",
       "      <th>0</th>\n",
       "      <td>1</td>\n",
       "      <td>as</td>\n",
       "      <td>34</td>\n",
       "    </tr>\n",
       "    <tr>\n",
       "      <th>1</th>\n",
       "      <td>2</td>\n",
       "      <td>er</td>\n",
       "      <td>12</td>\n",
       "    </tr>\n",
       "    <tr>\n",
       "      <th>2</th>\n",
       "      <td>3</td>\n",
       "      <td>qw</td>\n",
       "      <td>22</td>\n",
       "    </tr>\n",
       "    <tr>\n",
       "      <th>3</th>\n",
       "      <td>4</td>\n",
       "      <td>ty</td>\n",
       "      <td>20</td>\n",
       "    </tr>\n",
       "  </tbody>\n",
       "</table>\n",
       "</div>"
      ],
      "text/plain": [
       "   id name  age\n",
       "0   1   as   34\n",
       "1   2   er   12\n",
       "2   3   qw   22\n",
       "3   4   ty   20"
      ]
     },
     "execution_count": 80,
     "metadata": {},
     "output_type": "execute_result"
    }
   ],
   "source": [
    "df6"
   ]
  },
  {
   "cell_type": "code",
   "execution_count": 81,
   "id": "f942eaee-6c87-402a-ae16-d2e5137edc75",
   "metadata": {},
   "outputs": [],
   "source": [
    "df6.to_json('my json.json')"
   ]
  },
  {
   "cell_type": "code",
   "execution_count": 82,
   "id": "e2a381d4-cb13-40b8-bd2d-8af45b5e120d",
   "metadata": {},
   "outputs": [
    {
     "data": {
      "text/html": [
       "<div>\n",
       "<style scoped>\n",
       "    .dataframe tbody tr th:only-of-type {\n",
       "        vertical-align: middle;\n",
       "    }\n",
       "\n",
       "    .dataframe tbody tr th {\n",
       "        vertical-align: top;\n",
       "    }\n",
       "\n",
       "    .dataframe thead th {\n",
       "        text-align: right;\n",
       "    }\n",
       "</style>\n",
       "<table border=\"1\" class=\"dataframe\">\n",
       "  <thead>\n",
       "    <tr style=\"text-align: right;\">\n",
       "      <th></th>\n",
       "      <th>id</th>\n",
       "      <th>name</th>\n",
       "      <th>age</th>\n",
       "    </tr>\n",
       "  </thead>\n",
       "  <tbody>\n",
       "    <tr>\n",
       "      <th>0</th>\n",
       "      <td>1</td>\n",
       "      <td>as</td>\n",
       "      <td>34</td>\n",
       "    </tr>\n",
       "    <tr>\n",
       "      <th>1</th>\n",
       "      <td>2</td>\n",
       "      <td>er</td>\n",
       "      <td>12</td>\n",
       "    </tr>\n",
       "    <tr>\n",
       "      <th>2</th>\n",
       "      <td>3</td>\n",
       "      <td>qw</td>\n",
       "      <td>22</td>\n",
       "    </tr>\n",
       "    <tr>\n",
       "      <th>3</th>\n",
       "      <td>4</td>\n",
       "      <td>ty</td>\n",
       "      <td>20</td>\n",
       "    </tr>\n",
       "  </tbody>\n",
       "</table>\n",
       "</div>"
      ],
      "text/plain": [
       "   id name  age\n",
       "0   1   as   34\n",
       "1   2   er   12\n",
       "2   3   qw   22\n",
       "3   4   ty   20"
      ]
     },
     "execution_count": 82,
     "metadata": {},
     "output_type": "execute_result"
    }
   ],
   "source": [
    "df=pd.read_json('my json.json')\n",
    "df"
   ]
  },
  {
   "cell_type": "code",
   "execution_count": 83,
   "id": "8c114377-a117-4e05-b1fe-a59e34116de4",
   "metadata": {},
   "outputs": [
    {
     "data": {
      "text/html": [
       "<div>\n",
       "<style scoped>\n",
       "    .dataframe tbody tr th:only-of-type {\n",
       "        vertical-align: middle;\n",
       "    }\n",
       "\n",
       "    .dataframe tbody tr th {\n",
       "        vertical-align: top;\n",
       "    }\n",
       "\n",
       "    .dataframe thead th {\n",
       "        text-align: right;\n",
       "    }\n",
       "</style>\n",
       "<table border=\"1\" class=\"dataframe\">\n",
       "  <thead>\n",
       "    <tr style=\"text-align: right;\">\n",
       "      <th></th>\n",
       "      <th>name</th>\n",
       "      <th>sales</th>\n",
       "    </tr>\n",
       "  </thead>\n",
       "  <tbody>\n",
       "    <tr>\n",
       "      <th>0</th>\n",
       "      <td>a</td>\n",
       "      <td>45555</td>\n",
       "    </tr>\n",
       "    <tr>\n",
       "      <th>1</th>\n",
       "      <td>e</td>\n",
       "      <td>13333</td>\n",
       "    </tr>\n",
       "    <tr>\n",
       "      <th>2</th>\n",
       "      <td>q</td>\n",
       "      <td>24444</td>\n",
       "    </tr>\n",
       "    <tr>\n",
       "      <th>3</th>\n",
       "      <td>t</td>\n",
       "      <td>57777</td>\n",
       "    </tr>\n",
       "  </tbody>\n",
       "</table>\n",
       "</div>"
      ],
      "text/plain": [
       "  name  sales\n",
       "0    a  45555\n",
       "1    e  13333\n",
       "2    q  24444\n",
       "3    t  57777"
      ]
     },
     "execution_count": 83,
     "metadata": {},
     "output_type": "execute_result"
    }
   ],
   "source": [
    "df5"
   ]
  },
  {
   "cell_type": "code",
   "execution_count": 89,
   "id": "2b6d37df-d34a-4947-ad12-6de3605ad227",
   "metadata": {},
   "outputs": [],
   "source": [
    "df5.to_csv('mycsvv.csv')"
   ]
  },
  {
   "cell_type": "code",
   "execution_count": null,
   "id": "87760b37-b33f-4471-8908-5cec94fa2497",
   "metadata": {},
   "outputs": [],
   "source": []
  },
  {
   "cell_type": "code",
   "execution_count": null,
   "id": "4fcdae96-22de-4302-aff3-abab6c1dd822",
   "metadata": {},
   "outputs": [],
   "source": []
  },
  {
   "cell_type": "code",
   "execution_count": null,
   "id": "2e444fd8-8f8e-4654-b86e-2942fbd2fbfe",
   "metadata": {},
   "outputs": [],
   "source": []
  }
 ],
 "metadata": {
  "kernelspec": {
   "display_name": "Python 3.9.12 ('base')",
   "language": "python",
   "name": "python3"
  },
  "language_info": {
   "codemirror_mode": {
    "name": "ipython",
    "version": 3
   },
   "file_extension": ".py",
   "mimetype": "text/x-python",
   "name": "python",
   "nbconvert_exporter": "python",
   "pygments_lexer": "ipython3",
   "version": "3.9.12"
  },
  "vscode": {
   "interpreter": {
    "hash": "b302cdd1e032ee910f5c889c3360c28564c92ad4f326fc3102e39fbe47faee66"
   }
  }
 },
 "nbformat": 4,
 "nbformat_minor": 5
}

{
 "cells": [
  {
   "cell_type": "code",
   "execution_count": 1,
   "id": "cd531a0a-17bd-418d-a0e6-10bb49ea9609",
   "metadata": {},
   "outputs": [
    {
     "data": {
      "text/plain": [
       "7"
      ]
     },
     "execution_count": 1,
     "metadata": {},
     "output_type": "execute_result"
    }
   ],
   "source": [
    "3+4"
   ]
  },
  {
   "cell_type": "code",
   "execution_count": 2,
   "id": "1b9123d4-b27f-4d1f-80e0-30843a0f1b69",
   "metadata": {},
   "outputs": [
    {
     "data": {
      "text/plain": [
       "7650"
      ]
     },
     "execution_count": 2,
     "metadata": {},
     "output_type": "execute_result"
    }
   ],
   "source": [
    "90*85\n"
   ]
  },
  {
   "cell_type": "code",
   "execution_count": 3,
   "id": "18718e05-38f3-468a-bb98-03d5240c9877",
   "metadata": {},
   "outputs": [
    {
     "name": "stdout",
     "output_type": "stream",
     "text": [
      "oo oo oo oo\n"
     ]
    }
   ],
   "source": [
    "print ('oo oo oo oo')\n"
   ]
  },
  {
   "cell_type": "markdown",
   "id": "cc9ff5ab-4366-4992-9a16-98d3b9f209a1",
   "metadata": {},
   "source": [
    "## heading1\n"
   ]
  },
  {
   "cell_type": "markdown",
   "id": "77794ddf-59fa-4de3-9fd5-3353be1d9264",
   "metadata": {},
   "source": [
    "### heading 3"
   ]
  },
  {
   "cell_type": "markdown",
   "id": "62db16c5-83ca-4645-bdf1-6754e10be1a9",
   "metadata": {},
   "source": [
    "* lets start"
   ]
  },
  {
   "cell_type": "markdown",
   "id": "e81cfa81-101e-4ac1-9953-2b2ab618fe8d",
   "metadata": {},
   "source": [
    "** go"
   ]
  },
  {
   "cell_type": "markdown",
   "id": "096a65df-8c08-4b60-ba7c-93d125c17b48",
   "metadata": {},
   "source": [
    "1. hfhh"
   ]
  },
  {
   "cell_type": "code",
   "execution_count": 4,
   "id": "f1a2676b-65cf-44f3-8c6a-56c8b15ec7d1",
   "metadata": {},
   "outputs": [],
   "source": [
    "import os"
   ]
  },
  {
   "cell_type": "code",
   "execution_count": 5,
   "id": "3d48afac-a921-4511-9621-78ed7e5f2335",
   "metadata": {},
   "outputs": [
    {
     "data": {
      "text/plain": [
       "'C:\\\\Users\\\\hp\\\\Desktop\\\\ml\\\\day 7'"
      ]
     },
     "execution_count": 5,
     "metadata": {},
     "output_type": "execute_result"
    }
   ],
   "source": [
    "os.getcwd()"
   ]
  },
  {
   "cell_type": "code",
   "execution_count": 6,
   "id": "8553e61f-7af0-45fe-b183-348a94be1373",
   "metadata": {},
   "outputs": [
    {
     "ename": "FileNotFoundError",
     "evalue": "[WinError 2] The system cannot find the file specified: 'C:\\\\Users\\\\hp\\\\Desktop\\\\ml\\\\day 2'",
     "output_type": "error",
     "traceback": [
      "\u001b[1;31m---------------------------------------------------------------------------\u001b[0m",
      "\u001b[1;31mFileNotFoundError\u001b[0m                         Traceback (most recent call last)",
      "Input \u001b[1;32mIn [6]\u001b[0m, in \u001b[0;36m<cell line: 1>\u001b[1;34m()\u001b[0m\n\u001b[1;32m----> 1\u001b[0m \u001b[43mos\u001b[49m\u001b[38;5;241;43m.\u001b[39;49m\u001b[43mchdir\u001b[49m\u001b[43m(\u001b[49m\u001b[38;5;124;43m'\u001b[39;49m\u001b[38;5;124;43mC:\u001b[39;49m\u001b[38;5;130;43;01m\\\\\u001b[39;49;00m\u001b[38;5;124;43mUsers\u001b[39;49m\u001b[38;5;130;43;01m\\\\\u001b[39;49;00m\u001b[38;5;124;43mhp\u001b[39;49m\u001b[38;5;130;43;01m\\\\\u001b[39;49;00m\u001b[38;5;124;43mDesktop\u001b[39;49m\u001b[38;5;130;43;01m\\\\\u001b[39;49;00m\u001b[38;5;124;43mml\u001b[39;49m\u001b[38;5;130;43;01m\\\\\u001b[39;49;00m\u001b[38;5;124;43mday 2\u001b[39;49m\u001b[38;5;124;43m'\u001b[39;49m\u001b[43m)\u001b[49m\n",
      "\u001b[1;31mFileNotFoundError\u001b[0m: [WinError 2] The system cannot find the file specified: 'C:\\\\Users\\\\hp\\\\Desktop\\\\ml\\\\day 2'"
     ]
    }
   ],
   "source": [
    "os.chdir('C:\\\\Users\\\\hp\\\\Desktop\\\\ml\\\\day 2')"
   ]
  },
  {
   "cell_type": "code",
   "execution_count": 7,
   "id": "036d1327-250e-41ff-b42d-31627237f559",
   "metadata": {},
   "outputs": [],
   "source": [
    "os.mkdir('empyt_folder')"
   ]
  },
  {
   "cell_type": "code",
   "execution_count": 8,
   "id": "a69b4417-325d-472b-a023-3ee23ddd448f",
   "metadata": {},
   "outputs": [
    {
     "ename": "FileNotFoundError",
     "evalue": "[WinError 2] The system cannot find the file specified: 'empty_folder'",
     "output_type": "error",
     "traceback": [
      "\u001b[1;31m---------------------------------------------------------------------------\u001b[0m",
      "\u001b[1;31mFileNotFoundError\u001b[0m                         Traceback (most recent call last)",
      "Input \u001b[1;32mIn [8]\u001b[0m, in \u001b[0;36m<cell line: 1>\u001b[1;34m()\u001b[0m\n\u001b[1;32m----> 1\u001b[0m \u001b[43mos\u001b[49m\u001b[38;5;241;43m.\u001b[39;49m\u001b[43mrmdir\u001b[49m\u001b[43m(\u001b[49m\u001b[38;5;124;43m'\u001b[39;49m\u001b[38;5;124;43mempty_folder\u001b[39;49m\u001b[38;5;124;43m'\u001b[39;49m\u001b[43m)\u001b[49m\n",
      "\u001b[1;31mFileNotFoundError\u001b[0m: [WinError 2] The system cannot find the file specified: 'empty_folder'"
     ]
    }
   ],
   "source": [
    "os.rmdir('empty_folder')\n"
   ]
  },
  {
   "cell_type": "code",
   "execution_count": 9,
   "id": "b3facb3d-a1e5-4ac8-b6ea-1d9a81731ad8",
   "metadata": {},
   "outputs": [],
   "source": [
    "os.rmdir('empyt_folder')"
   ]
  },
  {
   "cell_type": "markdown",
   "id": "9f244084-4b1c-4a64-9e75-e286d1196d2f",
   "metadata": {},
   "source": [
    "## Random"
   ]
  },
  {
   "cell_type": "code",
   "execution_count": 10,
   "id": "9fdd218d-f486-4e8c-baeb-08d883e9642a",
   "metadata": {},
   "outputs": [],
   "source": [
    "import random\n"
   ]
  },
  {
   "cell_type": "code",
   "execution_count": 11,
   "id": "638fc3cb-acb2-4adc-a847-c3795604982b",
   "metadata": {},
   "outputs": [
    {
     "name": "stdout",
     "output_type": "stream",
     "text": [
      "0.7225000108011249\n"
     ]
    }
   ],
   "source": [
    "val = random.random()\n",
    "print(val)"
   ]
  },
  {
   "cell_type": "code",
   "execution_count": 12,
   "id": "f51a1b08-370a-4525-a8c8-3935db5f7312",
   "metadata": {},
   "outputs": [
    {
     "name": "stdout",
     "output_type": "stream",
     "text": [
      "8\n"
     ]
    }
   ],
   "source": [
    "va12 = random.randint(1,10)\n",
    "print (va12)"
   ]
  },
  {
   "cell_type": "code",
   "execution_count": 13,
   "id": "01d506a3-1db0-413d-867b-0b11f3d308f0",
   "metadata": {},
   "outputs": [
    {
     "name": "stdout",
     "output_type": "stream",
     "text": [
      "8\n"
     ]
    }
   ],
   "source": [
    "print(va12)"
   ]
  },
  {
   "cell_type": "code",
   "execution_count": 14,
   "id": "d4fefd5f-5218-42e0-9a4a-4a36560198dd",
   "metadata": {},
   "outputs": [
    {
     "name": "stdout",
     "output_type": "stream",
     "text": [
      "bii\n"
     ]
    }
   ],
   "source": [
    "m = ['hoo', 'hii','boo','bii']\n",
    "val = random.choice(m)\n",
    "print(val)"
   ]
  },
  {
   "cell_type": "code",
   "execution_count": 15,
   "id": "ad8d52e3-0ddb-4e5f-8441-5672d8df559c",
   "metadata": {},
   "outputs": [
    {
     "name": "stdout",
     "output_type": "stream",
     "text": [
      "['hoo', 'boo']\n"
     ]
    }
   ],
   "source": [
    "m = ['hoo', 'hii','boo','bii']\n",
    "val = random.choices(m,k=2)\n",
    "print(val)"
   ]
  },
  {
   "cell_type": "code",
   "execution_count": 16,
   "id": "f02697ef-6677-4205-b1f0-54ce53c9dfb7",
   "metadata": {},
   "outputs": [
    {
     "name": "stdout",
     "output_type": "stream",
     "text": [
      "['hoo', 'hii', 'boo', 'bii']\n"
     ]
    }
   ],
   "source": [
    "#Shuffle\n",
    "random.shuffle\n",
    "print(m)"
   ]
  },
  {
   "cell_type": "code",
   "execution_count": 17,
   "id": "608edc8f-fccd-454b-a1a9-ace6a9fc4e65",
   "metadata": {},
   "outputs": [
    {
     "name": "stdout",
     "output_type": "stream",
     "text": [
      "Requirement already satisfied: numpy in c:\\users\\hp\\anaconda\\lib\\site-packages (1.21.5)\n"
     ]
    }
   ],
   "source": [
    "!pip install numpy"
   ]
  },
  {
   "cell_type": "code",
   "execution_count": 18,
   "id": "64f41cc1-5021-492d-8fa5-a6f5371dbf52",
   "metadata": {},
   "outputs": [],
   "source": [
    "import numpy as np"
   ]
  }
 ],
 "metadata": {
  "kernelspec": {
   "display_name": "Python 3 (ipykernel)",
   "language": "python",
   "name": "python3"
  },
  "language_info": {
   "codemirror_mode": {
    "name": "ipython",
    "version": 3
   },
   "file_extension": ".py",
   "mimetype": "text/x-python",
   "name": "python",
   "nbconvert_exporter": "python",
   "pygments_lexer": "ipython3",
   "version": "3.9.12"
  }
 },
 "nbformat": 4,
 "nbformat_minor": 5
}
